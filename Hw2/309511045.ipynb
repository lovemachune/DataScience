{
 "cells": [
  {
   "cell_type": "code",
   "execution_count": 18,
   "metadata": {},
   "outputs": [],
   "source": [
    "import pandas as pd\n",
    "from sklearn.model_selection import train_test_split\n",
    "import keras\n",
    "import numpy as np\n",
    "import re\n",
    "import csv\n",
    "import matplotlib.pyplot as plt\n",
    "from keras import Input\n",
    "from keras.layers import Embedding, LSTM, concatenate, Dense, Conv1D, MaxPooling1D, Dropout\n",
    "from keras.models import Model"
   ]
  },
  {
   "cell_type": "code",
   "execution_count": 19,
   "metadata": {},
   "outputs": [],
   "source": [
    "def word_split(mystring):\n",
    "    str_split = []\n",
    "    for tmp in mystring:\n",
    "        tmp = re.sub('[^a-zA-Z0-9\\s]+', '', tmp)\n",
    "        tmp = tmp.split(' ')\n",
    "        while True:\n",
    "            if '' not in tmp:\n",
    "                break\n",
    "            tmp.remove('')    \n",
    "        str_split.append(tmp)\n",
    "    return str_split"
   ]
  },
  {
   "cell_type": "code",
   "execution_count": 20,
   "metadata": {},
   "outputs": [],
   "source": [
    "all_data = pd.read_csv(\"train.csv\")\n",
    "data = all_data['Headline']\n",
    "label = all_data['Label']"
   ]
  },
  {
   "cell_type": "code",
   "execution_count": 21,
   "metadata": {},
   "outputs": [],
   "source": [
    "my_split = word_split(data)"
   ]
  },
  {
   "cell_type": "code",
   "execution_count": 22,
   "metadata": {},
   "outputs": [],
   "source": [
    "MAX_NUM_WORDS = 10000\n",
    "tokenizer = keras.preprocessing.text.Tokenizer(num_words=MAX_NUM_WORDS)"
   ]
  },
  {
   "cell_type": "code",
   "execution_count": 23,
   "metadata": {},
   "outputs": [],
   "source": [
    "tokenizer.fit_on_texts(my_split)"
   ]
  },
  {
   "cell_type": "code",
   "execution_count": 24,
   "metadata": {},
   "outputs": [],
   "source": [
    "x= tokenizer.texts_to_sequences(my_split)\n",
    "max_seq_len = max([len(seq) for seq in x])\n",
    "MAX_SEQUENCE_LENGTH = 20\n",
    "x = keras.preprocessing.sequence.pad_sequences(x,maxlen=MAX_SEQUENCE_LENGTH)"
   ]
  },
  {
   "cell_type": "code",
   "execution_count": 25,
   "metadata": {},
   "outputs": [],
   "source": [
    "x_train, x_test, y_train, y_test = train_test_split(x, label, test_size=0.2, random_state = 42)"
   ]
  },
  {
   "cell_type": "code",
   "execution_count": 29,
   "metadata": {},
   "outputs": [
    {
     "name": "stdout",
     "output_type": "stream",
     "text": [
      "Model: \"functional_9\"\n",
      "_________________________________________________________________\n",
      "Layer (type)                 Output Shape              Param #   \n",
      "=================================================================\n",
      "input_10 (InputLayer)        [(None, 20)]              0         \n",
      "_________________________________________________________________\n",
      "embedding_6 (Embedding)      (None, 20, 128)           1280000   \n",
      "_________________________________________________________________\n",
      "lstm_1 (LSTM)                (None, 128)               131584    \n",
      "_________________________________________________________________\n",
      "dense_4 (Dense)              (None, 1)                 129       \n",
      "=================================================================\n",
      "Total params: 1,411,713\n",
      "Trainable params: 1,411,713\n",
      "Non-trainable params: 0\n",
      "_________________________________________________________________\n"
     ]
    }
   ],
   "source": [
    "input_ = Input(\n",
    "    shape=(MAX_SEQUENCE_LENGTH, ), \n",
    "    dtype='int32')\n",
    "\n",
    "\n",
    "# 詞嵌入層\n",
    "# 經過詞嵌入層的轉換，兩個新聞標題都變成\n",
    "# 一個詞向量的序列，而每個詞向量的維度\n",
    "# 為 256\n",
    "embedding_layer = Embedding(\n",
    "    MAX_NUM_WORDS, 128)\n",
    "embedded = embedding_layer(\n",
    "    input_)\n",
    "# LSTM 層\n",
    "# 兩個新聞標題經過此層後\n",
    "# 為一個 128 維度向量\n",
    "lstm = LSTM(128)\n",
    "output =lstm(embedded)\n",
    "\n",
    "# 串接層將兩個新聞標題的結果串接單一向量\n",
    "# 方便跟全連結層相連\n",
    "\n",
    "dense =  Dense(\n",
    "    units=1, \n",
    "    activation='linear')\n",
    "predictions = dense(output)\n",
    "# 我們的模型就是將數字序列的輸入，轉換\n",
    "# 成 3 個分類的機率的所有步驟 / 層的總和\n",
    "model = Model(\n",
    "    inputs=input_, \n",
    "    outputs=predictions)\n",
    "model.compile(\n",
    "    optimizer='sgd',\n",
    "    loss='mean_squared_error',\n",
    "    metrics=['accuracy'])\n",
    "model.summary()"
   ]
  },
  {
   "cell_type": "code",
   "execution_count": 28,
   "metadata": {},
   "outputs": [
    {
     "name": "stdout",
     "output_type": "stream",
     "text": [
      "Epoch 1/20\n",
      "51/51 [==============================] - 1s 14ms/step - loss: 1.5395 - val_loss: 0.5427\n",
      "Epoch 2/20\n",
      "51/51 [==============================] - 0s 9ms/step - loss: 0.5369 - val_loss: 0.5395\n",
      "Epoch 3/20\n",
      "51/51 [==============================] - 0s 8ms/step - loss: 0.5332 - val_loss: 0.5376\n",
      "Epoch 4/20\n",
      "51/51 [==============================] - 0s 8ms/step - loss: 0.5356 - val_loss: 0.5382\n",
      "Epoch 5/20\n",
      "51/51 [==============================] - 0s 9ms/step - loss: 0.5395 - val_loss: 0.5457\n",
      "Epoch 6/20\n",
      "51/51 [==============================] - 0s 8ms/step - loss: 0.5337 - val_loss: 0.5732\n",
      "Epoch 7/20\n",
      "51/51 [==============================] - 0s 9ms/step - loss: 0.5348 - val_loss: 0.5521\n",
      "Epoch 8/20\n",
      "51/51 [==============================] - 0s 9ms/step - loss: 0.5332 - val_loss: 0.5416\n",
      "Epoch 9/20\n",
      "51/51 [==============================] - 0s 8ms/step - loss: 0.5341 - val_loss: 0.5675\n",
      "Epoch 10/20\n",
      "51/51 [==============================] - 0s 8ms/step - loss: 0.5361 - val_loss: 0.5417\n",
      "Epoch 11/20\n",
      "51/51 [==============================] - 0s 8ms/step - loss: 0.5287 - val_loss: 0.5346\n",
      "Epoch 12/20\n",
      "51/51 [==============================] - 0s 9ms/step - loss: 0.5310 - val_loss: 0.5337\n",
      "Epoch 13/20\n",
      "51/51 [==============================] - 0s 8ms/step - loss: 0.5307 - val_loss: 0.5353\n",
      "Epoch 14/20\n",
      "51/51 [==============================] - 0s 8ms/step - loss: 0.5338 - val_loss: 0.5379\n",
      "Epoch 15/20\n",
      "51/51 [==============================] - 0s 8ms/step - loss: 0.5346 - val_loss: 0.5338\n",
      "Epoch 16/20\n",
      "51/51 [==============================] - 0s 8ms/step - loss: 0.5354 - val_loss: 0.5321\n",
      "Epoch 17/20\n",
      "51/51 [==============================] - 0s 8ms/step - loss: 0.5283 - val_loss: 0.5603\n",
      "Epoch 18/20\n",
      "51/51 [==============================] - 0s 8ms/step - loss: 0.5310 - val_loss: 0.5316\n",
      "Epoch 19/20\n",
      "51/51 [==============================] - 0s 8ms/step - loss: 0.5311 - val_loss: 0.5314\n",
      "Epoch 20/20\n",
      "51/51 [==============================] - 0s 8ms/step - loss: 0.5327 - val_loss: 0.5312\n"
     ]
    }
   ],
   "source": [
    "history = model.fit(x=x_train, y=y_train, validation_data=(x_test,y_test), batch_size=32,epochs=20,shuffle=True)"
   ]
  },
  {
   "cell_type": "code",
   "execution_count": 12,
   "metadata": {},
   "outputs": [
    {
     "data": {
      "text/plain": [
       "[<matplotlib.lines.Line2D at 0x1dcba16a9b0>,\n",
       " <matplotlib.lines.Line2D at 0x1dcba175470>]"
      ]
     },
     "execution_count": 12,
     "metadata": {},
     "output_type": "execute_result"
    },
    {
     "data": {
      "image/png": "[encoded data removed]",
      "text/plain": [
       "<Figure size 432x288 with 1 Axes>"
      ]
     },
     "metadata": {
      "needs_background": "light"
     },
     "output_type": "display_data"
    }
   ],
   "source": [
    "train_loss = history.history['loss']\n",
    "val_loss = history.history['val_loss']\n",
    "plt.plot(train_loss,'r', val_loss, 'b')"
   ]
  },
  {
   "cell_type": "code",
   "execution_count": 309,
   "metadata": {},
   "outputs": [],
   "source": [
    "test_data = pd.read_csv(\"test.csv\")\n",
    "data = test_data['Headline'].to_numpy()\n",
    "label = test_data['Label'].to_numpy()\n",
    "my_split = word_split(data)"
   ]
  },
  {
   "cell_type": "code",
   "execution_count": 294,
   "metadata": {},
   "outputs": [],
   "source": [
    "x= tokenizer.texts_to_sequences(my_split)\n",
    "x = keras.preprocessing.sequence.pad_sequences(x,maxlen=MAX_SEQUENCE_LENGTH)"
   ]
  },
  {
   "cell_type": "code",
   "execution_count": 295,
   "metadata": {},
   "outputs": [],
   "source": [
    "y_pre = model.predict(x)\n",
    "b = np.arange(1, y_pre.shape[0]+1, dtype='int32').reshape(y_pre.shape[0], 1)\n",
    "y_pre = np.append(b, y_pre, axis=1)"
   ]
  },
  {
   "cell_type": "code",
   "execution_count": 296,
   "metadata": {},
   "outputs": [],
   "source": [
    "with open('output.csv', 'w', newline='') as csvfile:\n",
    "    writer = csv.writer(csvfile)\n",
    "    writer.writerow(['ID','Label'])\n",
    "    writer.writerows(y_pre)"
   ]
  },
  {
   "cell_type": "code",
   "execution_count": null,
   "metadata": {},
   "outputs": [],
   "source": []
  }
 ],
 "metadata": {
  "kernelspec": {
   "display_name": "tf",
   "language": "python",
   "name": "tf"
  },
  "language_info": {
   "codemirror_mode": {
    "name": "ipython",
    "version": 3
   },
   "file_extension": ".py",
   "mimetype": "text/x-python",
   "name": "python",
   "nbconvert_exporter": "python",
   "pygments_lexer": "ipython3",
   "version": "3.6.12"
  }
 },
 "nbformat": 4,
 "nbformat_minor": 4
}
