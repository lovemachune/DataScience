{
 "cells": [
  {
   "cell_type": "code",
   "execution_count": 29,
   "metadata": {},
   "outputs": [],
   "source": [
    "import keras\n",
    "import pandas as pd\n",
    "import os\n",
    "import sys\n",
    "import numpy as np\n",
    "import re\n",
    "from keras.preprocessing.text import Tokenizer\n",
    "from keras.preprocessing.sequence import pad_sequences\n",
    "from keras.utils import to_categorical\n",
    "from keras.layers import Dense, Input, GlobalMaxPooling1D, Dropout\n",
    "from keras.layers import Conv1D, MaxPooling1D, Embedding, LSTM, Conv2D\n",
    "from keras.models import Model, Sequential\n",
    "from sklearn.model_selection import train_test_split"
   ]
  },
  {
   "cell_type": "code",
   "execution_count": 183,
   "metadata": {},
   "outputs": [],
   "source": [
    "def word_split(mystring):\n",
    "    str_split = []\n",
    "    nltk_stopwords= nltk.corpus.stopwords.words('english')\n",
    "    for tmp in mystring:\n",
    "        tmp = tmp.lower()\n",
    "        #punct_token = wordpunct_tokenize(tmp)\n",
    "        tmp = re.sub('[^a-zA-Z0-9\\s\\?\\!]+', '', tmp)\n",
    "        tmp = tmp.replace('!', ' !')\n",
    "        tmp = tmp.replace('?', ' ?')\n",
    "        tmp = tmp.split(' ')\n",
    "        '''\n",
    "        punct_token = [word for word in punct_token if word not in nltk_stopwords]\n",
    "        #remove string.punctuation\n",
    "        punct_token = [word for word in punct_token if word not in string.punctuation]\n",
    "        '''\n",
    "        while True:\n",
    "            if '' not in tmp:\n",
    "                break\n",
    "            tmp.remove('')\n",
    "        while True:\n",
    "            if 'the' not in tmp:\n",
    "                break\n",
    "            tmp.remove('the')\n",
    "        while True:\n",
    "            if 'and' not in tmp:\n",
    "                break\n",
    "            tmp.remove('and')\n",
    "        while True:\n",
    "            if 'of' not in tmp:\n",
    "                break\n",
    "            tmp.remove('of')\n",
    "        while True:\n",
    "            if 'is' not in tmp:\n",
    "                break\n",
    "            tmp.remove('is')\n",
    "        while True:\n",
    "            if 'are' not in tmp:\n",
    "                break\n",
    "            tmp.remove('are')\n",
    "        str_split.append(tmp)\n",
    "    return str_split"
   ]
  },
  {
   "cell_type": "code",
   "execution_count": 31,
   "metadata": {},
   "outputs": [
    {
     "name": "stderr",
     "output_type": "stream",
     "text": [
      "[nltk_data] Downloading package stopwords to\n",
      "[nltk_data]     C:\\Users\\User\\AppData\\Roaming\\nltk_data...\n",
      "[nltk_data]   Package stopwords is already up-to-date!\n"
     ]
    }
   ],
   "source": [
    "import nltk\n",
    "nltk.download('stopwords')\n",
    "import string\n",
    "from nltk import wordpunct_tokenize"
   ]
  },
  {
   "cell_type": "code",
   "execution_count": 180,
   "metadata": {},
   "outputs": [],
   "source": [
    "GLOVE_DIR = './'\n",
    "MAX_SEQUENCE_LENGTH = 25\n",
    "MAX_NB_WORDS = 10000\n",
    "EMBEDDING_DIM = 100\n",
    "NUM_LSTM_UNITS = 256\n",
    "VALIDATION_SPLIT = 0.2"
   ]
  },
  {
   "cell_type": "code",
   "execution_count": 181,
   "metadata": {},
   "outputs": [],
   "source": [
    "embeddings_index = {}\n",
    "f = open(os.path.join(GLOVE_DIR, 'glove.6B.100d.txt'), encoding='utf8')\n",
    "for line in f:\n",
    "    values = line.split()\n",
    "    word = values[0]\n",
    "    coefs = np.asarray(values[1:], dtype='float32')\n",
    "    embeddings_index[word] = coefs\n",
    "f.close()"
   ]
  },
  {
   "cell_type": "code",
   "execution_count": 184,
   "metadata": {},
   "outputs": [],
   "source": [
    "all_data = pd.read_csv(\"train.csv\")\n",
    "data = all_data['Headline']\n",
    "label = all_data['Label']\n",
    "my_split = word_split(data)"
   ]
  },
  {
   "cell_type": "code",
   "execution_count": 185,
   "metadata": {},
   "outputs": [],
   "source": [
    "tokenizer = Tokenizer(num_words=MAX_NB_WORDS)\n",
    "tokenizer.fit_on_texts(my_split)\n",
    "sequences = tokenizer.texts_to_sequences(my_split)\n",
    "word_index = tokenizer.word_index\n",
    "x = pad_sequences(sequences, maxlen=MAX_SEQUENCE_LENGTH)"
   ]
  },
  {
   "cell_type": "code",
   "execution_count": 186,
   "metadata": {},
   "outputs": [],
   "source": [
    "num_words = min(MAX_NB_WORDS, len(word_index))+1\n",
    "embedding_matrix = np.zeros((num_words, EMBEDDING_DIM))\n",
    "for word, i in word_index.items():\n",
    "    if i >= MAX_NB_WORDS:\n",
    "        continue\n",
    "    embedding_vector = embeddings_index.get(word)\n",
    "    if embedding_vector is not None:\n",
    "        # words not found in embedding index will be all-zeros.\n",
    "        embedding_matrix[i] = embedding_vector"
   ]
  },
  {
   "cell_type": "code",
   "execution_count": 187,
   "metadata": {},
   "outputs": [],
   "source": [
    "embedding_layer = Embedding(num_words,\n",
    "                            EMBEDDING_DIM,\n",
    "                            weights=[embedding_matrix],\n",
    "                            input_length=MAX_SEQUENCE_LENGTH,\n",
    "                            trainable=False)"
   ]
  },
  {
   "cell_type": "code",
   "execution_count": 188,
   "metadata": {},
   "outputs": [],
   "source": [
    "sequence_input = Input(shape=(MAX_SEQUENCE_LENGTH,), dtype='int32')\n",
    "embedded_sequences = embedding_layer(sequence_input)\n",
    "cnn = Sequential()\n",
    "xx = Conv1D(NUM_LSTM_UNITS, 5, activation='relu')(embedded_sequences)\n",
    "xx = MaxPooling1D(2)(xx)\n",
    "xx = Dropout(0.2)(xx)\n",
    "xx = Conv1D(NUM_LSTM_UNITS, 5, activation='relu')(xx)\n",
    "xx = MaxPooling1D(2)(xx)\n",
    "xx = Dropout(0.2)(xx)\n",
    "l1 = LSTM(NUM_LSTM_UNITS, input_shape=(MAX_SEQUENCE_LENGTH, NUM_LSTM_UNITS), return_sequences=True)\n",
    "l2 = LSTM(NUM_LSTM_UNITS, return_sequences=False)\n",
    "xx = l1(xx)\n",
    "xx = l2(xx)\n",
    "predictions = Dense(units=1, activation='linear')(xx)\n",
    "model = Model(inputs=sequence_input, outputs=predictions)"
   ]
  },
  {
   "cell_type": "code",
   "execution_count": 189,
   "metadata": {},
   "outputs": [
    {
     "name": "stdout",
     "output_type": "stream",
     "text": [
      "Model: \"functional_39\"\n",
      "_________________________________________________________________\n",
      "Layer (type)                 Output Shape              Param #   \n",
      "=================================================================\n",
      "input_27 (InputLayer)        [(None, 25)]              0         \n",
      "_________________________________________________________________\n",
      "embedding_12 (Embedding)     (None, 25, 100)           1000100   \n",
      "_________________________________________________________________\n",
      "conv1d_33 (Conv1D)           (None, 21, 256)           128256    \n",
      "_________________________________________________________________\n",
      "max_pooling1d_30 (MaxPooling (None, 10, 256)           0         \n",
      "_________________________________________________________________\n",
      "dropout_19 (Dropout)         (None, 10, 256)           0         \n",
      "_________________________________________________________________\n",
      "conv1d_34 (Conv1D)           (None, 6, 256)            327936    \n",
      "_________________________________________________________________\n",
      "max_pooling1d_31 (MaxPooling (None, 3, 256)            0         \n",
      "_________________________________________________________________\n",
      "dropout_20 (Dropout)         (None, 3, 256)            0         \n",
      "_________________________________________________________________\n",
      "lstm_34 (LSTM)               (None, 3, 256)            525312    \n",
      "_________________________________________________________________\n",
      "lstm_35 (LSTM)               (None, 256)               525312    \n",
      "_________________________________________________________________\n",
      "dense_19 (Dense)             (None, 1)                 257       \n",
      "=================================================================\n",
      "Total params: 2,507,173\n",
      "Trainable params: 1,507,073\n",
      "Non-trainable params: 1,000,100\n",
      "_________________________________________________________________\n"
     ]
    }
   ],
   "source": [
    "model.compile(loss=keras.losses.MeanSquaredError(),\n",
    "              optimizer=keras.optimizers.SGD())\n",
    "model.summary()"
   ]
  },
  {
   "cell_type": "code",
   "execution_count": 190,
   "metadata": {},
   "outputs": [],
   "source": [
    "x_train, x_test, y_train, y_test = train_test_split(x, label, test_size=0.1)"
   ]
  },
  {
   "cell_type": "code",
   "execution_count": 191,
   "metadata": {
    "scrolled": true
   },
   "outputs": [
    {
     "name": "stdout",
     "output_type": "stream",
     "text": [
      "Epoch 1/40\n",
      "58/58 [==============================] - 2s 29ms/step - loss: 1.3551 - val_loss: 0.5787\n",
      "Epoch 2/40\n",
      "58/58 [==============================] - 1s 22ms/step - loss: 0.5839 - val_loss: 0.5470\n",
      "Epoch 3/40\n",
      "58/58 [==============================] - 1s 22ms/step - loss: 0.5588 - val_loss: 0.5281\n",
      "Epoch 4/40\n",
      "58/58 [==============================] - 1s 22ms/step - loss: 0.5408 - val_loss: 0.5350\n",
      "Epoch 5/40\n",
      "58/58 [==============================] - 1s 22ms/step - loss: 0.5362 - val_loss: 0.5082\n",
      "Epoch 6/40\n",
      "58/58 [==============================] - 1s 22ms/step - loss: 0.5257 - val_loss: 0.5040\n",
      "Epoch 7/40\n",
      "58/58 [==============================] - 1s 22ms/step - loss: 0.5151 - val_loss: 0.4915\n",
      "Epoch 8/40\n",
      "58/58 [==============================] - 1s 22ms/step - loss: 0.5066 - val_loss: 0.5075\n",
      "Epoch 9/40\n",
      "58/58 [==============================] - 1s 22ms/step - loss: 0.4943 - val_loss: 0.4751\n",
      "Epoch 10/40\n",
      "58/58 [==============================] - 1s 22ms/step - loss: 0.4895 - val_loss: 0.4543\n",
      "Epoch 11/40\n",
      "58/58 [==============================] - 1s 22ms/step - loss: 0.4787 - val_loss: 0.4487\n",
      "Epoch 12/40\n",
      "58/58 [==============================] - 1s 22ms/step - loss: 0.4710 - val_loss: 0.4392\n",
      "Epoch 13/40\n",
      "58/58 [==============================] - 1s 22ms/step - loss: 0.4629 - val_loss: 0.4330\n",
      "Epoch 14/40\n",
      "58/58 [==============================] - 1s 22ms/step - loss: 0.4593 - val_loss: 0.4558\n",
      "Epoch 15/40\n",
      "58/58 [==============================] - 1s 23ms/step - loss: 0.4568 - val_loss: 0.4243\n",
      "Epoch 16/40\n",
      "58/58 [==============================] - 1s 23ms/step - loss: 0.4502 - val_loss: 0.4241\n",
      "Epoch 17/40\n",
      "58/58 [==============================] - 1s 22ms/step - loss: 0.4461 - val_loss: 0.4250\n",
      "Epoch 18/40\n",
      "58/58 [==============================] - 1s 22ms/step - loss: 0.4424 - val_loss: 0.4186\n",
      "Epoch 19/40\n",
      "58/58 [==============================] - 1s 22ms/step - loss: 0.4414 - val_loss: 0.4346\n",
      "Epoch 20/40\n",
      "58/58 [==============================] - 1s 22ms/step - loss: 0.4317 - val_loss: 0.4154\n",
      "Epoch 21/40\n",
      "58/58 [==============================] - 1s 22ms/step - loss: 0.4280 - val_loss: 0.4216\n",
      "Epoch 22/40\n",
      "58/58 [==============================] - 1s 22ms/step - loss: 0.4274 - val_loss: 0.4252\n",
      "Epoch 23/40\n",
      "58/58 [==============================] - 1s 22ms/step - loss: 0.4265 - val_loss: 0.4152\n",
      "Epoch 24/40\n",
      "58/58 [==============================] - 1s 22ms/step - loss: 0.4149 - val_loss: 0.5021\n",
      "Epoch 25/40\n",
      "58/58 [==============================] - 1s 22ms/step - loss: 0.4112 - val_loss: 0.4430\n",
      "Epoch 26/40\n",
      "58/58 [==============================] - 1s 22ms/step - loss: 0.4146 - val_loss: 0.4164\n",
      "Epoch 27/40\n",
      "58/58 [==============================] - 1s 22ms/step - loss: 0.4047 - val_loss: 0.4584\n",
      "Epoch 28/40\n",
      "58/58 [==============================] - 1s 22ms/step - loss: 0.4002 - val_loss: 0.4145\n",
      "Epoch 29/40\n",
      "58/58 [==============================] - 1s 22ms/step - loss: 0.4026 - val_loss: 0.4345\n",
      "Epoch 30/40\n",
      "58/58 [==============================] - 1s 22ms/step - loss: 0.3965 - val_loss: 0.4538\n",
      "Epoch 31/40\n",
      "58/58 [==============================] - 1s 22ms/step - loss: 0.3963 - val_loss: 0.4121\n",
      "Epoch 32/40\n",
      "58/58 [==============================] - 1s 22ms/step - loss: 0.3847 - val_loss: 0.4673\n",
      "Epoch 33/40\n",
      "58/58 [==============================] - 1s 22ms/step - loss: 0.3910 - val_loss: 0.4148\n",
      "Epoch 34/40\n",
      "58/58 [==============================] - 1s 22ms/step - loss: 0.3954 - val_loss: 0.4195\n",
      "Epoch 35/40\n",
      "58/58 [==============================] - 1s 22ms/step - loss: 0.3929 - val_loss: 0.4163\n",
      "Epoch 36/40\n",
      "58/58 [==============================] - 1s 22ms/step - loss: 0.3763 - val_loss: 0.4176\n",
      "Epoch 37/40\n",
      "58/58 [==============================] - 1s 22ms/step - loss: 0.3784 - val_loss: 0.4454\n",
      "Epoch 38/40\n",
      "58/58 [==============================] - 1s 23ms/step - loss: 0.3667 - val_loss: 0.4167\n",
      "Epoch 39/40\n",
      "58/58 [==============================] - 1s 24ms/step - loss: 0.3734 - val_loss: 0.4819\n",
      "Epoch 40/40\n",
      "58/58 [==============================] - 1s 23ms/step - loss: 0.3589 - val_loss: 0.4907\n"
     ]
    }
   ],
   "source": [
    "history = model.fit(x_train, y_train ,batch_size=32 ,epochs=40,validation_data=(x_test, y_test))"
   ]
  },
  {
   "cell_type": "code",
   "execution_count": 192,
   "metadata": {},
   "outputs": [
    {
     "data": {
      "text/plain": [
       "[<matplotlib.lines.Line2D at 0x23588ddefd0>,\n",
       " <matplotlib.lines.Line2D at 0x23588ddb0b8>]"
      ]
     },
     "execution_count": 192,
     "metadata": {},
     "output_type": "execute_result"
    },
    {
     "data": {
      "image/png": "[encoded data removed]",
      "text/plain": [
       "<Figure size 432x288 with 1 Axes>"
      ]
     },
     "metadata": {
      "needs_background": "light"
     },
     "output_type": "display_data"
    }
   ],
   "source": [
    "import matplotlib.pyplot as plt\n",
    "train_loss = history.history['loss']\n",
    "val_loss = history.history['val_loss']\n",
    "plt.plot(train_loss,'r', val_loss, 'b')"
   ]
  },
  {
   "cell_type": "code",
   "execution_count": 200,
   "metadata": {},
   "outputs": [
    {
     "name": "stdout",
     "output_type": "stream",
     "text": [
      "[2.2328038]\n"
     ]
    }
   ],
   "source": [
    "test_data = pd.read_csv(\"test.csv\")\n",
    "data = test_data['Headline']\n",
    "label = test_data['Label']\n",
    "test_split = word_split(data)\n",
    "sequences = tokenizer.texts_to_sequences(test_split)\n",
    "x = pad_sequences(sequences, maxlen=MAX_SEQUENCE_LENGTH)\n",
    "y_pre = model.predict(x)\n",
    "print(y_pre[0])\n",
    "b = np.arange(1, y_pre.shape[0]+1).reshape(y_pre.shape[0], 1)\n",
    "y_pre = np.append(b, y_pre, axis=1)"
   ]
  },
  {
   "cell_type": "code",
   "execution_count": 194,
   "metadata": {},
   "outputs": [],
   "source": [
    "import csv\n",
    "with open('output.csv', 'w', newline='') as csvfile:\n",
    "    writer = csv.writer(csvfile)\n",
    "    writer.writerow(['ID','Label'])\n",
    "    writer.writerows(y_pre)"
   ]
  },
  {
   "cell_type": "code",
   "execution_count": 195,
   "metadata": {},
   "outputs": [
    {
     "name": "stdout",
     "output_type": "stream",
     "text": [
      "WARNING:tensorflow:From D:\\Annconda3\\envs\\tf\\lib\\site-packages\\tensorflow\\python\\training\\tracking\\tracking.py:111: Model.state_updates (from tensorflow.python.keras.engine.training) is deprecated and will be removed in a future version.\n",
      "Instructions for updating:\n",
      "This property should not be used in TensorFlow 2.0, as updates are applied automatically.\n",
      "WARNING:tensorflow:From D:\\Annconda3\\envs\\tf\\lib\\site-packages\\tensorflow\\python\\training\\tracking\\tracking.py:111: Layer.updates (from tensorflow.python.keras.engine.base_layer) is deprecated and will be removed in a future version.\n",
      "Instructions for updating:\n",
      "This property should not be used in TensorFlow 2.0, as updates are applied automatically.\n",
      "INFO:tensorflow:Assets written to: ./mymodel/assets\n"
     ]
    }
   ],
   "source": [
    "model.save('./mymodel/')"
   ]
  },
  {
   "cell_type": "code",
   "execution_count": 199,
   "metadata": {},
   "outputs": [],
   "source": [
    "mm = keras.models.load_model('./mymodel/')"
   ]
  },
  {
   "cell_type": "code",
   "execution_count": 201,
   "metadata": {},
   "outputs": [
    {
     "name": "stdout",
     "output_type": "stream",
     "text": [
      "[2.2328038]\n"
     ]
    }
   ],
   "source": [
    "test_data = pd.read_csv(\"test.csv\")\n",
    "data = test_data['Headline']\n",
    "label = test_data['Label']\n",
    "test_split = word_split(data)\n",
    "sequences = tokenizer.texts_to_sequences(test_split)\n",
    "x = pad_sequences(sequences, maxlen=MAX_SEQUENCE_LENGTH)\n",
    "y_pre = mm.predict(x)\n",
    "print(y_pre[0])\n",
    "b = np.arange(1, y_pre.shape[0]+1).reshape(y_pre.shape[0], 1)\n",
    "y_pre = np.append(b, y_pre, axis=1)"
   ]
  },
  {
   "cell_type": "code",
   "execution_count": null,
   "metadata": {},
   "outputs": [],
   "source": []
  }
 ],
 "metadata": {
  "kernelspec": {
   "display_name": "tf",
   "language": "python",
   "name": "tf"
  },
  "language_info": {
   "codemirror_mode": {
    "name": "ipython",
    "version": 3
   },
   "file_extension": ".py",
   "mimetype": "text/x-python",
   "name": "python",
   "nbconvert_exporter": "python",
   "pygments_lexer": "ipython3",
   "version": "3.6.12"
  }
 },
 "nbformat": 4,
 "nbformat_minor": 4
}
