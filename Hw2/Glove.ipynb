{
 "cells": [
  {
   "cell_type": "code",
   "execution_count": 13,
   "metadata": {},
   "outputs": [],
   "source": [
    "import tensorflow as tf\n",
    "import pandas as pd\n",
    "import os\n",
    "import sys\n",
    "import numpy as np\n",
    "import re\n",
    "from keras.preprocessing.text import Tokenizer\n",
    "from keras.preprocessing.sequence import pad_sequences\n",
    "from keras.utils import to_categorical\n",
    "from keras.layers import Dense, Input, GlobalMaxPooling1D, Dropout\n",
    "from keras.layers import Conv1D, MaxPooling1D, Embedding, LSTM\n",
    "from keras.models import Model\n",
    "from sklearn.model_selection import train_test_split"
   ]
  },
  {
   "cell_type": "code",
   "execution_count": 38,
   "metadata": {},
   "outputs": [],
   "source": [
    "def word_split(mystring):\n",
    "    str_split = []\n",
    "    for tmp in mystring:\n",
    "        tmp = re.sub('[^a-zA-Z0-9\\s]+', '', tmp)\n",
    "        tmp = tmp.replace('the', '')\n",
    "        tmp = tmp.split(' ')\n",
    "        while True:\n",
    "            if '' not in tmp:\n",
    "                break\n",
    "            tmp.remove('')    \n",
    "        str_split.append(tmp)\n",
    "    return str_split"
   ]
  },
  {
   "cell_type": "code",
   "execution_count": 62,
   "metadata": {},
   "outputs": [],
   "source": [
    "GLOVE_DIR = './'\n",
    "MAX_SEQUENCE_LENGTH = 100\n",
    "MAX_NB_WORDS = 10000\n",
    "EMBEDDING_DIM = 100\n",
    "VALIDATION_SPLIT = 0.2"
   ]
  },
  {
   "cell_type": "code",
   "execution_count": 63,
   "metadata": {},
   "outputs": [],
   "source": [
    "embeddings_index = {}\n",
    "f = open(os.path.join(GLOVE_DIR, 'glove.6B.100d.txt'), encoding='utf8')\n",
    "for line in f:\n",
    "    values = line.split()\n",
    "    word = values[0]\n",
    "    coefs = np.asarray(values[1:], dtype='float32')\n",
    "    embeddings_index[word] = coefs\n",
    "f.close()"
   ]
  },
  {
   "cell_type": "code",
   "execution_count": 64,
   "metadata": {},
   "outputs": [],
   "source": [
    "all_data = pd.read_csv(\"train.csv\")\n",
    "data = all_data['Headline']\n",
    "label = all_data['Label']\n",
    "my_split = word_split(data)"
   ]
  },
  {
   "cell_type": "code",
   "execution_count": 65,
   "metadata": {},
   "outputs": [],
   "source": [
    "tokenizer = Tokenizer(num_words=MAX_NB_WORDS)\n",
    "tokenizer.fit_on_texts(my_split)\n",
    "sequences = tokenizer.texts_to_sequences(my_split)\n",
    "word_index = tokenizer.word_index\n",
    "x = pad_sequences(sequences, maxlen=MAX_SEQUENCE_LENGTH)"
   ]
  },
  {
   "cell_type": "code",
   "execution_count": 66,
   "metadata": {},
   "outputs": [],
   "source": [
    "num_words = min(MAX_NB_WORDS, len(word_index))\n",
    "embedding_matrix = np.zeros((num_words, EMBEDDING_DIM))\n",
    "for word, i in word_index.items():\n",
    "    if i >= MAX_NB_WORDS:\n",
    "        continue\n",
    "    embedding_vector = embeddings_index.get(word)\n",
    "    if embedding_vector is not None:\n",
    "        # words not found in embedding index will be all-zeros.\n",
    "        embedding_matrix[i-1] = embedding_vector"
   ]
  },
  {
   "cell_type": "code",
   "execution_count": 67,
   "metadata": {},
   "outputs": [],
   "source": [
    "embedding_layer = Embedding(num_words,\n",
    "                            EMBEDDING_DIM,\n",
    "                            weights=[embedding_matrix],\n",
    "                            input_length=MAX_SEQUENCE_LENGTH,\n",
    "                            trainable=False)"
   ]
  },
  {
   "cell_type": "code",
   "execution_count": 71,
   "metadata": {},
   "outputs": [],
   "source": [
    "sequence_input = Input(shape=(MAX_SEQUENCE_LENGTH,), dtype='int32')\n",
    "embedded_sequences = embedding_layer(sequence_input)\n",
    "NUM_LSTM_UNITS = 100\n",
    "shared_lstm = LSTM(NUM_LSTM_UNITS)\n",
    "xx = shared_lstm(embedded_sequences)\n",
    "'''\n",
    "x = Dense(units=32, activation='relu')(x)\n",
    "x = Dropout(0.2)(x)\n",
    "x = Dense(units=8, activation='relu')(x)\n",
    "x = Dropout(0.2)(x)\n",
    "'''\n",
    "predictions = Dense(units=1, activation='linear')(xx)\n",
    "model = Model(inputs=sequence_input, outputs=predictions)"
   ]
  },
  {
   "cell_type": "code",
   "execution_count": 72,
   "metadata": {},
   "outputs": [
    {
     "name": "stdout",
     "output_type": "stream",
     "text": [
      "Model: \"functional_19\"\n",
      "_________________________________________________________________\n",
      "Layer (type)                 Output Shape              Param #   \n",
      "=================================================================\n",
      "input_10 (InputLayer)        [(None, 100)]             0         \n",
      "_________________________________________________________________\n",
      "embedding_6 (Embedding)      (None, 100, 100)          1000000   \n",
      "_________________________________________________________________\n",
      "lstm_9 (LSTM)                (None, 100)               80400     \n",
      "_________________________________________________________________\n",
      "dense_9 (Dense)              (None, 1)                 101       \n",
      "=================================================================\n",
      "Total params: 1,080,501\n",
      "Trainable params: 80,501\n",
      "Non-trainable params: 1,000,000\n",
      "_________________________________________________________________\n"
     ]
    }
   ],
   "source": [
    "model.compile(loss=tf.keras.losses.MeanSquaredError(),\n",
    "              optimizer=tf.keras.optimizers.Adam(0.001))\n",
    "model.summary()"
   ]
  },
  {
   "cell_type": "code",
   "execution_count": 74,
   "metadata": {
    "scrolled": true
   },
   "outputs": [
    {
     "name": "stdout",
     "output_type": "stream",
     "text": [
      "Epoch 1/20\n",
      "10/10 [==============================] - 1s 103ms/step - loss: 0.5168 - val_loss: 0.4734\n",
      "Epoch 2/20\n",
      "10/10 [==============================] - 1s 96ms/step - loss: 0.4767 - val_loss: 0.4776\n",
      "Epoch 3/20\n",
      "10/10 [==============================] - 1s 99ms/step - loss: 0.4443 - val_loss: 0.5024\n",
      "Epoch 4/20\n",
      "10/10 [==============================] - 1s 97ms/step - loss: 0.4160 - val_loss: 0.4946\n",
      "Epoch 5/20\n",
      "10/10 [==============================] - 1s 96ms/step - loss: 0.3971 - val_loss: 0.4955\n",
      "Epoch 6/20\n",
      "10/10 [==============================] - 1s 98ms/step - loss: 0.3680 - val_loss: 0.5195\n",
      "Epoch 7/20\n",
      "10/10 [==============================] - 1s 98ms/step - loss: 0.3369 - val_loss: 0.5225\n",
      "Epoch 8/20\n",
      "10/10 [==============================] - 1s 97ms/step - loss: 0.3162 - val_loss: 0.5405\n",
      "Epoch 9/20\n",
      "10/10 [==============================] - 1s 97ms/step - loss: 0.2923 - val_loss: 0.5501\n",
      "Epoch 10/20\n",
      "10/10 [==============================] - 1s 96ms/step - loss: 0.2708 - val_loss: 0.5785\n",
      "Epoch 11/20\n",
      "10/10 [==============================] - 1s 97ms/step - loss: 0.2785 - val_loss: 0.5927\n",
      "Epoch 12/20\n",
      "10/10 [==============================] - 1s 99ms/step - loss: 0.2423 - val_loss: 0.5842\n",
      "Epoch 13/20\n",
      "10/10 [==============================] - 1s 98ms/step - loss: 0.2085 - val_loss: 0.6279\n",
      "Epoch 14/20\n",
      "10/10 [==============================] - 1s 99ms/step - loss: 0.1851 - val_loss: 0.6256\n",
      "Epoch 15/20\n",
      "10/10 [==============================] - 1s 98ms/step - loss: 0.1650 - val_loss: 0.6699\n",
      "Epoch 16/20\n",
      "10/10 [==============================] - 1s 98ms/step - loss: 0.1608 - val_loss: 0.7012\n",
      "Epoch 17/20\n",
      "10/10 [==============================] - 1s 98ms/step - loss: 0.1421 - val_loss: 0.7084\n",
      "Epoch 18/20\n",
      "10/10 [==============================] - 1s 98ms/step - loss: 0.1263 - val_loss: 0.6588\n",
      "Epoch 19/20\n",
      "10/10 [==============================] - 1s 97ms/step - loss: 0.1034 - val_loss: 0.6709\n",
      "Epoch 20/20\n",
      "10/10 [==============================] - 1s 98ms/step - loss: 0.0822 - val_loss: 0.6985\n"
     ]
    }
   ],
   "source": [
    "x_train, x_test, y_train, y_test = train_test_split(x, label, test_size=0.7)\n",
    "history = model.fit(x_train, y_train ,batch_size=64,epochs=20,validation_data=(x_test, y_test))"
   ]
  },
  {
   "cell_type": "code",
   "execution_count": 24,
   "metadata": {},
   "outputs": [
    {
     "data": {
      "text/plain": [
       "[<matplotlib.lines.Line2D at 0x20234ddd518>,\n",
       " <matplotlib.lines.Line2D at 0x20234ddd588>]"
      ]
     },
     "execution_count": 24,
     "metadata": {},
     "output_type": "execute_result"
    },
    {
     "data": {
      "image/png": "[encoded data removed]",
      "text/plain": [
       "<Figure size 432x288 with 1 Axes>"
      ]
     },
     "metadata": {
      "needs_background": "light"
     },
     "output_type": "display_data"
    }
   ],
   "source": [
    "import matplotlib.pyplot as plt\n",
    "train_loss = history.history['loss']\n",
    "val_loss = history.history['val_loss']\n",
    "plt.plot(train_loss,'r', val_loss, 'b')"
   ]
  },
  {
   "cell_type": "code",
   "execution_count": 25,
   "metadata": {},
   "outputs": [],
   "source": [
    "test_data = pd.read_csv(\"test.csv\")\n",
    "data = test_data['Headline']\n",
    "label = test_data['Label']\n",
    "test_split = word_split(data)\n",
    "sequences = tokenizer.texts_to_sequences(test_split)\n",
    "x = pad_sequences(sequences, maxlen=MAX_SEQUENCE_LENGTH)\n",
    "y_pre = model.predict(x)\n",
    "b = np.arange(1, y_pre.shape[0]+1).reshape(y_pre.shape[0], 1)\n",
    "y_pre = np.append(b, y_pre, axis=1)"
   ]
  },
  {
   "cell_type": "code",
   "execution_count": 86,
   "metadata": {},
   "outputs": [],
   "source": [
    "import csv\n",
    "with open('output.csv', 'w', newline='') as csvfile:\n",
    "    writer = csv.writer(csvfile)\n",
    "    writer.writerow(['ID','Label'])\n",
    "    writer.writerows(y_pre)"
   ]
  },
  {
   "cell_type": "code",
   "execution_count": null,
   "metadata": {},
   "outputs": [],
   "source": []
  }
 ],
 "metadata": {
  "kernelspec": {
   "display_name": "tf",
   "language": "python",
   "name": "tf"
  },
  "language_info": {
   "codemirror_mode": {
    "name": "ipython",
    "version": 3
   },
   "file_extension": ".py",
   "mimetype": "text/x-python",
   "name": "python",
   "nbconvert_exporter": "python",
   "pygments_lexer": "ipython3",
   "version": "3.6.12"
  }
 },
 "nbformat": 4,
 "nbformat_minor": 4
}
