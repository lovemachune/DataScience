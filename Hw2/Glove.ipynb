{
 "cells": [
  {
   "cell_type": "code",
   "execution_count": 21,
   "metadata": {},
   "outputs": [],
   "source": [
    "import keras\n",
    "import pandas as pd\n",
    "import os\n",
    "import sys\n",
    "import numpy as np\n",
    "import re\n",
    "from keras.preprocessing.text import Tokenizer\n",
    "from keras.preprocessing.sequence import pad_sequences\n",
    "from keras.utils import to_categorical\n",
    "from keras.layers import Dense, Input, GlobalMaxPooling1D, Dropout\n",
    "from keras.layers import Conv1D, MaxPooling1D, Embedding, LSTM, Conv2D\n",
    "from keras.models import Model, Sequential\n",
    "from sklearn.model_selection import train_test_split"
   ]
  },
  {
   "cell_type": "code",
   "execution_count": 50,
   "metadata": {},
   "outputs": [],
   "source": [
    "def word_split(mystring):\n",
    "    str_split = []\n",
    "    nltk_stopwords= nltk.corpus.stopwords.words('english')\n",
    "    for tmp in mystring:\n",
    "        tmp = tmp.lower()\n",
    "        #punct_token = wordpunct_tokenize(tmp)\n",
    "        tmp = re.sub('[^a-zA-Z0-9\\s\\?\\!]+', '', tmp)\n",
    "        tmp = tmp.replace('!', ' !')\n",
    "        tmp = tmp.replace('?', ' ?')\n",
    "        tmp = tmp.split(' ')\n",
    "        '''\n",
    "        punct_token = [word for word in punct_token if word not in nltk_stopwords]\n",
    "        #remove string.punctuation\n",
    "        punct_token = [word for word in punct_token if word not in string.punctuation]\n",
    "        '''\n",
    "        while True:\n",
    "            if '' not in tmp:\n",
    "                break\n",
    "            tmp.remove('')\n",
    "        while True:\n",
    "            if 'the' not in tmp:\n",
    "                break\n",
    "            tmp.remove('the')\n",
    "        while True:\n",
    "            if 'and' not in tmp:\n",
    "                break\n",
    "            tmp.remove('and')\n",
    "        while True:\n",
    "            if 'of' not in tmp:\n",
    "                break\n",
    "            tmp.remove('of')\n",
    "        '''\n",
    "        while True:\n",
    "            if 'is' not in tmp:\n",
    "                break\n",
    "            tmp.remove('is')\n",
    "        while True:\n",
    "            if 'are' not in tmp:\n",
    "                break\n",
    "            tmp.remove('are')\n",
    "        '''\n",
    "        str_split.append(tmp)\n",
    "    return str_split"
   ]
  },
  {
   "cell_type": "code",
   "execution_count": 71,
   "metadata": {},
   "outputs": [
    {
     "name": "stderr",
     "output_type": "stream",
     "text": [
      "[nltk_data] Downloading package stopwords to\n",
      "[nltk_data]     C:\\Users\\User\\AppData\\Roaming\\nltk_data...\n",
      "[nltk_data]   Package stopwords is already up-to-date!\n"
     ]
    }
   ],
   "source": [
    "import nltk\n",
    "nltk.download('stopwords')\n",
    "import string\n",
    "from nltk import wordpunct_tokenize"
   ]
  },
  {
   "cell_type": "code",
   "execution_count": 85,
   "metadata": {},
   "outputs": [],
   "source": [
    "GLOVE_DIR = './'\n",
    "MAX_SEQUENCE_LENGTH = 45\n",
    "MAX_NB_WORDS = 10000\n",
    "EMBEDDING_DIM = 100\n",
    "NUM_LSTM_UNITS = 512\n",
    "VALIDATION_SPLIT = 0.2"
   ]
  },
  {
   "cell_type": "code",
   "execution_count": 86,
   "metadata": {},
   "outputs": [],
   "source": [
    "embeddings_index = {}\n",
    "f = open(os.path.join(GLOVE_DIR, 'glove.6B.100d.txt'), encoding='utf8')\n",
    "for line in f:\n",
    "    values = line.split()\n",
    "    word = values[0]\n",
    "    coefs = np.asarray(values[1:], dtype='float32')\n",
    "    embeddings_index[word] = coefs\n",
    "f.close()"
   ]
  },
  {
   "cell_type": "code",
   "execution_count": 87,
   "metadata": {},
   "outputs": [],
   "source": [
    "all_data = pd.read_csv(\"train.csv\")\n",
    "data = all_data['Headline']\n",
    "label = all_data['Label']\n",
    "my_split = word_split(data)"
   ]
  },
  {
   "cell_type": "code",
   "execution_count": 88,
   "metadata": {},
   "outputs": [],
   "source": [
    "tokenizer = Tokenizer(num_words=MAX_NB_WORDS)\n",
    "tokenizer.fit_on_texts(my_split)\n",
    "sequences = tokenizer.texts_to_sequences(my_split)\n",
    "word_index = tokenizer.word_index\n",
    "x = pad_sequences(sequences, maxlen=MAX_SEQUENCE_LENGTH)"
   ]
  },
  {
   "cell_type": "code",
   "execution_count": 98,
   "metadata": {},
   "outputs": [],
   "source": [
    "num_words = min(MAX_NB_WORDS, len(word_index))+1\n",
    "embedding_matrix = np.zeros((num_words, EMBEDDING_DIM))\n",
    "for word, i in word_index.items():\n",
    "    if i >= MAX_NB_WORDS:\n",
    "        continue\n",
    "    embedding_vector = embeddings_index.get(word)\n",
    "    if embedding_vector is not None:\n",
    "        # words not found in embedding index will be all-zeros.\n",
    "        embedding_matrix[i] = embedding_vector"
   ]
  },
  {
   "cell_type": "code",
   "execution_count": 99,
   "metadata": {},
   "outputs": [],
   "source": [
    "embedding_layer = Embedding(num_words,\n",
    "                            EMBEDDING_DIM,\n",
    "                            weights=[embedding_matrix],\n",
    "                            input_length=MAX_SEQUENCE_LENGTH,\n",
    "                            trainable=False)"
   ]
  },
  {
   "cell_type": "code",
   "execution_count": 100,
   "metadata": {},
   "outputs": [],
   "source": [
    "sequence_input = Input(shape=(MAX_SEQUENCE_LENGTH,), dtype='int32')\n",
    "embedded_sequences = embedding_layer(sequence_input)\n",
    "cnn = Sequential()\n",
    "xx = Conv1D(NUM_LSTM_UNITS, 4, activation='relu')(embedded_sequences)\n",
    "xx = MaxPooling1D(2)(xx)\n",
    "xx = Dropout(0.2)(xx)\n",
    "xx = Conv1D(NUM_LSTM_UNITS, 4, activation='relu')(xx)\n",
    "xx = MaxPooling1D(2)(xx)\n",
    "xx = Dropout(0.2)(xx)\n",
    "l1 = LSTM(NUM_LSTM_UNITS, input_shape=(MAX_SEQUENCE_LENGTH, NUM_LSTM_UNITS), return_sequences=True)\n",
    "l2 = LSTM(NUM_LSTM_UNITS, return_sequences=False)\n",
    "xx = l1(xx)\n",
    "xx = l2(xx)\n",
    "predictions = Dense(units=1, activation='linear')(xx)\n",
    "model = Model(inputs=sequence_input, outputs=predictions)"
   ]
  },
  {
   "cell_type": "code",
   "execution_count": 101,
   "metadata": {
    "scrolled": false
   },
   "outputs": [
    {
     "name": "stdout",
     "output_type": "stream",
     "text": [
      "Model: \"functional_15\"\n",
      "_________________________________________________________________\n",
      "Layer (type)                 Output Shape              Param #   \n",
      "=================================================================\n",
      "input_8 (InputLayer)         [(None, 45)]              0         \n",
      "_________________________________________________________________\n",
      "embedding_6 (Embedding)      (None, 45, 100)           1000100   \n",
      "_________________________________________________________________\n",
      "conv1d_15 (Conv1D)           (None, 42, 512)           205312    \n",
      "_________________________________________________________________\n",
      "max_pooling1d_15 (MaxPooling (None, 21, 512)           0         \n",
      "_________________________________________________________________\n",
      "dropout_15 (Dropout)         (None, 21, 512)           0         \n",
      "_________________________________________________________________\n",
      "conv1d_16 (Conv1D)           (None, 18, 512)           1049088   \n",
      "_________________________________________________________________\n",
      "max_pooling1d_16 (MaxPooling (None, 9, 512)            0         \n",
      "_________________________________________________________________\n",
      "dropout_16 (Dropout)         (None, 9, 512)            0         \n",
      "_________________________________________________________________\n",
      "lstm_14 (LSTM)               (None, 9, 512)            2099200   \n",
      "_________________________________________________________________\n",
      "lstm_15 (LSTM)               (None, 512)               2099200   \n",
      "_________________________________________________________________\n",
      "dense_7 (Dense)              (None, 1)                 513       \n",
      "=================================================================\n",
      "Total params: 6,453,413\n",
      "Trainable params: 5,453,313\n",
      "Non-trainable params: 1,000,100\n",
      "_________________________________________________________________\n"
     ]
    }
   ],
   "source": [
    "model.compile(loss=keras.losses.MeanSquaredError(),\n",
    "              optimizer=keras.optimizers.SGD())\n",
    "model.summary()"
   ]
  },
  {
   "cell_type": "code",
   "execution_count": 102,
   "metadata": {},
   "outputs": [],
   "source": [
    "x_train, x_test, y_train, y_test = train_test_split(x, label, test_size=0.1)"
   ]
  },
  {
   "cell_type": "code",
   "execution_count": 103,
   "metadata": {
    "scrolled": true
   },
   "outputs": [
    {
     "name": "stdout",
     "output_type": "stream",
     "text": [
      "Epoch 1/40\n",
      "58/58 [==============================] - 12s 202ms/step - loss: 1.1168 - val_loss: 0.5878\n",
      "Epoch 2/40\n",
      "58/58 [==============================] - 11s 195ms/step - loss: 0.5873 - val_loss: 0.5272\n",
      "Epoch 3/40\n",
      "58/58 [==============================] - 11s 198ms/step - loss: 0.5316 - val_loss: 0.4900\n",
      "Epoch 4/40\n",
      "58/58 [==============================] - 12s 210ms/step - loss: 0.5146 - val_loss: 0.4645\n",
      "Epoch 5/40\n",
      "58/58 [==============================] - 12s 207ms/step - loss: 0.5074 - val_loss: 0.4455\n",
      "Epoch 6/40\n",
      "58/58 [==============================] - 11s 197ms/step - loss: 0.4837 - val_loss: 0.4497\n",
      "Epoch 7/40\n",
      "58/58 [==============================] - 11s 196ms/step - loss: 0.4730 - val_loss: 0.5096\n",
      "Epoch 8/40\n",
      "58/58 [==============================] - 12s 199ms/step - loss: 0.4643 - val_loss: 0.4183\n",
      "Epoch 9/40\n",
      "58/58 [==============================] - 12s 201ms/step - loss: 0.4637 - val_loss: 0.5261\n",
      "Epoch 10/40\n",
      "58/58 [==============================] - 12s 201ms/step - loss: 0.4558 - val_loss: 0.4226\n",
      "Epoch 11/40\n",
      "58/58 [==============================] - 12s 200ms/step - loss: 0.4414 - val_loss: 0.6104\n",
      "Epoch 12/40\n",
      "58/58 [==============================] - 12s 201ms/step - loss: 0.4484 - val_loss: 0.5249\n",
      "Epoch 13/40\n",
      "58/58 [==============================] - 12s 200ms/step - loss: 0.4463 - val_loss: 0.5280\n",
      "Epoch 14/40\n",
      "58/58 [==============================] - 12s 200ms/step - loss: 0.4333 - val_loss: 0.4316\n",
      "Epoch 15/40\n",
      "58/58 [==============================] - 12s 201ms/step - loss: 0.4367 - val_loss: 0.4432\n",
      "Epoch 16/40\n",
      "58/58 [==============================] - 12s 201ms/step - loss: 0.4267 - val_loss: 0.4199\n",
      "Epoch 17/40\n",
      "58/58 [==============================] - 12s 201ms/step - loss: 0.4220 - val_loss: 0.4662\n",
      "Epoch 18/40\n",
      "58/58 [==============================] - 12s 200ms/step - loss: 0.4289 - val_loss: 0.5337\n",
      "Epoch 19/40\n",
      "58/58 [==============================] - 12s 200ms/step - loss: 0.4212 - val_loss: 0.4160\n",
      "Epoch 20/40\n",
      "58/58 [==============================] - 12s 201ms/step - loss: 0.4169 - val_loss: 0.4131\n",
      "Epoch 21/40\n",
      "58/58 [==============================] - 12s 198ms/step - loss: 0.4115 - val_loss: 0.4152\n",
      "Epoch 22/40\n",
      "58/58 [==============================] - 12s 199ms/step - loss: 0.4054 - val_loss: 0.4146\n",
      "Epoch 23/40\n",
      "58/58 [==============================] - 12s 200ms/step - loss: 0.4044 - val_loss: 0.4853\n",
      "Epoch 24/40\n",
      "58/58 [==============================] - 12s 200ms/step - loss: 0.4091 - val_loss: 0.4428\n",
      "Epoch 25/40\n",
      "58/58 [==============================] - 12s 201ms/step - loss: 0.4090 - val_loss: 0.5355\n",
      "Epoch 26/40\n",
      "58/58 [==============================] - 12s 200ms/step - loss: 0.3940 - val_loss: 0.4350\n",
      "Epoch 27/40\n",
      "58/58 [==============================] - 12s 201ms/step - loss: 0.3908 - val_loss: 0.4232\n",
      "Epoch 28/40\n",
      "58/58 [==============================] - 12s 200ms/step - loss: 0.4061 - val_loss: 0.6302\n",
      "Epoch 29/40\n",
      "58/58 [==============================] - 12s 199ms/step - loss: 0.4049 - val_loss: 0.5277\n",
      "Epoch 30/40\n",
      "58/58 [==============================] - 12s 202ms/step - loss: 0.3790 - val_loss: 0.4252\n",
      "Epoch 31/40\n",
      "58/58 [==============================] - 12s 200ms/step - loss: 0.3771 - val_loss: 0.5674\n",
      "Epoch 32/40\n",
      "58/58 [==============================] - 12s 199ms/step - loss: 0.3952 - val_loss: 0.4752\n",
      "Epoch 33/40\n",
      "58/58 [==============================] - 12s 200ms/step - loss: 0.3750 - val_loss: 0.5532\n",
      "Epoch 34/40\n",
      "58/58 [==============================] - 12s 201ms/step - loss: 0.3651 - val_loss: 0.4221\n",
      "Epoch 35/40\n",
      "58/58 [==============================] - 12s 201ms/step - loss: 0.3815 - val_loss: 0.4223\n",
      "Epoch 36/40\n",
      "58/58 [==============================] - 12s 199ms/step - loss: 0.3660 - val_loss: 0.5523\n",
      "Epoch 37/40\n",
      "58/58 [==============================] - 12s 199ms/step - loss: 0.3603 - val_loss: 0.5059\n",
      "Epoch 38/40\n",
      "58/58 [==============================] - 12s 202ms/step - loss: 0.3626 - val_loss: 0.5719\n",
      "Epoch 39/40\n",
      "58/58 [==============================] - 12s 200ms/step - loss: 0.3559 - val_loss: 0.4569\n",
      "Epoch 40/40\n",
      "58/58 [==============================] - 12s 199ms/step - loss: 0.3618 - val_loss: 0.5762\n"
     ]
    }
   ],
   "source": [
    "history = model.fit(x_train, y_train ,batch_size=32 ,epochs=40,validation_data=(x_test, y_test))"
   ]
  },
  {
   "cell_type": "code",
   "execution_count": 104,
   "metadata": {},
   "outputs": [
    {
     "data": {
      "text/plain": [
       "[<matplotlib.lines.Line2D at 0x2a176128f98>,\n",
       " <matplotlib.lines.Line2D at 0x2a176145080>]"
      ]
     },
     "execution_count": 104,
     "metadata": {},
     "output_type": "execute_result"
    },
    {
     "data": {
      "image/png": "[encoded data removed]",
      "text/plain": [
       "<Figure size 432x288 with 1 Axes>"
      ]
     },
     "metadata": {
      "needs_background": "light"
     },
     "output_type": "display_data"
    }
   ],
   "source": [
    "import matplotlib.pyplot as plt\n",
    "train_loss = history.history['loss']\n",
    "val_loss = history.history['val_loss']\n",
    "plt.plot(train_loss,'r', val_loss, 'b')"
   ]
  },
  {
   "cell_type": "code",
   "execution_count": 112,
   "metadata": {},
   "outputs": [
    {
     "name": "stdout",
     "output_type": "stream",
     "text": [
      "[2.106281]\n"
     ]
    }
   ],
   "source": [
    "test_data = pd.read_csv(\"test.csv\")\n",
    "data = test_data['Headline']\n",
    "label = test_data['Label']\n",
    "test_split = word_split(data)\n",
    "sequences = tokenizer.texts_to_sequences(test_split)\n",
    "x = pad_sequences(sequences, maxlen=MAX_SEQUENCE_LENGTH)\n",
    "y_pre = model.predict(x)\n",
    "print(y_pre[0])\n",
    "b = np.arange(1, y_pre.shape[0]+1).reshape(y_pre.shape[0], 1)\n",
    "y_pre = np.append(b, y_pre, axis=1)"
   ]
  },
  {
   "cell_type": "code",
   "execution_count": 106,
   "metadata": {},
   "outputs": [],
   "source": [
    "import csv\n",
    "with open('output.csv', 'w', newline='') as csvfile:\n",
    "    writer = csv.writer(csvfile)\n",
    "    writer.writerow(['ID','Label'])\n",
    "    writer.writerows(y_pre)"
   ]
  },
  {
   "cell_type": "code",
   "execution_count": 107,
   "metadata": {},
   "outputs": [
    {
     "name": "stdout",
     "output_type": "stream",
     "text": [
      "INFO:tensorflow:Assets written to: ./mymodel_0.447/assets\n"
     ]
    }
   ],
   "source": [
    "model.save('./mymodel_0.447/')"
   ]
  },
  {
   "cell_type": "code",
   "execution_count": 113,
   "metadata": {},
   "outputs": [],
   "source": [
    "mm = keras.models.load_model('./mymodel_0.447/')"
   ]
  },
  {
   "cell_type": "code",
   "execution_count": 114,
   "metadata": {},
   "outputs": [
    {
     "name": "stdout",
     "output_type": "stream",
     "text": [
      "[2.106281]\n"
     ]
    }
   ],
   "source": [
    "test_data = pd.read_csv(\"test.csv\")\n",
    "data = test_data['Headline']\n",
    "label = test_data['Label']\n",
    "test_split = word_split(data)\n",
    "sequences = tokenizer.texts_to_sequences(test_split)\n",
    "x = pad_sequences(sequences, maxlen=MAX_SEQUENCE_LENGTH)\n",
    "y_pre = mm.predict(x)\n",
    "print(y_pre[0])\n",
    "b = np.arange(1, y_pre.shape[0]+1).reshape(y_pre.shape[0], 1)\n",
    "y_pre = np.append(b, y_pre, axis=1)"
   ]
  },
  {
   "cell_type": "code",
   "execution_count": 110,
   "metadata": {
    "scrolled": true
   },
   "outputs": [
    {
     "name": "stdout",
     "output_type": "stream",
     "text": [
      "Model: \"functional_9\"\n",
      "_________________________________________________________________\n",
      "Layer (type)                 Output Shape              Param #   \n",
      "=================================================================\n",
      "input_5 (InputLayer)         [(None, 50)]              0         \n",
      "_________________________________________________________________\n",
      "embedding_3 (Embedding)      (None, 50, 100)           1000100   \n",
      "_________________________________________________________________\n",
      "conv1d_9 (Conv1D)            (None, 47, 256)           102656    \n",
      "_________________________________________________________________\n",
      "max_pooling1d_9 (MaxPooling1 (None, 23, 256)           0         \n",
      "_________________________________________________________________\n",
      "dropout_9 (Dropout)          (None, 23, 256)           0         \n",
      "_________________________________________________________________\n",
      "conv1d_10 (Conv1D)           (None, 20, 256)           262400    \n",
      "_________________________________________________________________\n",
      "max_pooling1d_10 (MaxPooling (None, 10, 256)           0         \n",
      "_________________________________________________________________\n",
      "dropout_10 (Dropout)         (None, 10, 256)           0         \n",
      "_________________________________________________________________\n",
      "lstm_8 (LSTM)                (None, 10, 256)           525312    \n",
      "_________________________________________________________________\n",
      "lstm_9 (LSTM)                (None, 256)               525312    \n",
      "_________________________________________________________________\n",
      "dense_4 (Dense)              (None, 1)                 257       \n",
      "=================================================================\n",
      "Total params: 2,416,037\n",
      "Trainable params: 2,416,037\n",
      "Non-trainable params: 0\n",
      "_________________________________________________________________\n"
     ]
    }
   ],
   "source": [
    "mm.summary()"
   ]
  },
  {
   "cell_type": "code",
   "execution_count": null,
   "metadata": {},
   "outputs": [],
   "source": []
  }
 ],
 "metadata": {
  "kernelspec": {
   "display_name": "tf",
   "language": "python",
   "name": "tf"
  },
  "language_info": {
   "codemirror_mode": {
    "name": "ipython",
    "version": 3
   },
   "file_extension": ".py",
   "mimetype": "text/x-python",
   "name": "python",
   "nbconvert_exporter": "python",
   "pygments_lexer": "ipython3",
   "version": "3.6.12"
  }
 },
 "nbformat": 4,
 "nbformat_minor": 4
}
