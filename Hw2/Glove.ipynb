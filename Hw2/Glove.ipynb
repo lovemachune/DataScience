{
 "cells": [
  {
   "cell_type": "code",
   "execution_count": 12,
   "metadata": {},
   "outputs": [],
   "source": [
    "import keras\n",
    "import pandas as pd\n",
    "import os\n",
    "import sys\n",
    "import numpy as np\n",
    "import re\n",
    "from keras.preprocessing.text import Tokenizer\n",
    "from keras.preprocessing.sequence import pad_sequences\n",
    "from keras.utils import to_categorical\n",
    "from keras.layers import Dense, Input, GlobalMaxPooling1D, Dropout\n",
    "from keras.layers import Conv1D, MaxPooling1D, Embedding, LSTM, Conv2D, Bidirectional\n",
    "from keras.models import Model, Sequential\n",
    "from sklearn.model_selection import train_test_split"
   ]
  },
  {
   "cell_type": "code",
<<<<<<< HEAD
   "execution_count": 88,
=======
   "execution_count": 65,
>>>>>>> 6de35cf254492e39f1ba45c20a339a725cfc2a82
   "metadata": {},
   "outputs": [],
   "source": [
    "def word_split(mystring):\n",
    "    str_split = []\n",
    "    nltk_stopwords= nltk.corpus.stopwords.words('english')\n",
    "    for tmp in mystring:\n",
    "        tmp = tmp.lower()\n",
    "        #punct_token = wordpunct_tokenize(tmp)\n",
    "        tmp = re.sub('[^a-zA-Z0-9\\s\\?\\!]+', '', tmp)\n",
    "        tmp = tmp.replace('!', ' !')\n",
    "        tmp = tmp.replace('?', ' ?')\n",
    "        tmp = tmp.split(' ')\n",
    "        '''\n",
    "        punct_token = [word for word in punct_token if word not in nltk_stopwords]\n",
    "        #remove string.punctuation\n",
    "        punct_token = [word for word in punct_token if word not in string.punctuation]\n",
    "        '''\n",
    "        while True:\n",
    "            if '' not in tmp:\n",
    "                break\n",
    "            tmp.remove('')\n",
    "        '''\n",
    "        while True:\n",
    "            if 'the' not in tmp:\n",
    "                break\n",
    "            tmp.remove('the')\n",
    "        while True:\n",
    "            if 'and' not in tmp:\n",
    "                break\n",
    "            tmp.remove('and')\n",
    "        while True:\n",
    "            if 'of' not in tmp:\n",
    "                break\n",
    "            tmp.remove('of')\n",
    "        while True:\n",
    "            if 'is' not in tmp:\n",
    "                break\n",
    "            tmp.remove('is')\n",
    "        while True:\n",
    "            if 'are' not in tmp:\n",
    "                break\n",
    "            tmp.remove('are')\n",
    "        '''\n",
    "        str_split.append(tmp)\n",
    "    return str_split"
   ]
  },
  {
   "cell_type": "code",
<<<<<<< HEAD
   "execution_count": 89,
=======
   "execution_count": 66,
>>>>>>> 6de35cf254492e39f1ba45c20a339a725cfc2a82
   "metadata": {},
   "outputs": [
    {
     "name": "stderr",
     "output_type": "stream",
     "text": [
      "[nltk_data] Downloading package stopwords to\n",
      "[nltk_data]     C:\\Users\\User\\AppData\\Roaming\\nltk_data...\n",
      "[nltk_data]   Package stopwords is already up-to-date!\n"
     ]
    }
   ],
   "source": [
    "import nltk\n",
    "nltk.download('stopwords')\n",
    "import string\n",
    "from nltk import wordpunct_tokenize"
   ]
  },
  {
   "cell_type": "code",
<<<<<<< HEAD
   "execution_count": 90,
=======
   "execution_count": 133,
>>>>>>> 6de35cf254492e39f1ba45c20a339a725cfc2a82
   "metadata": {},
   "outputs": [],
   "source": [
    "GLOVE_DIR = './'\n",
    "MAX_SEQUENCE_LENGTH = 30\n",
    "MAX_NB_WORDS = 10000\n",
    "EMBEDDING_DIM = 100\n",
    "NUM_LSTM_UNITS = 512\n",
    "VALIDATION_SPLIT = 0.2"
   ]
  },
  {
   "cell_type": "code",
<<<<<<< HEAD
   "execution_count": 91,
=======
   "execution_count": 81,
>>>>>>> 6de35cf254492e39f1ba45c20a339a725cfc2a82
   "metadata": {},
   "outputs": [],
   "source": [
    "embeddings_index = {}\n",
    "f = open(os.path.join(GLOVE_DIR, 'glove.6B.100d.txt'), encoding='utf8')\n",
    "for line in f:\n",
    "    values = line.split()\n",
    "    word = values[0]\n",
    "    coefs = np.asarray(values[1:], dtype='float32')\n",
    "    embeddings_index[word] = coefs\n",
    "f.close()"
   ]
  },
  {
   "cell_type": "code",
<<<<<<< HEAD
   "execution_count": 110,
=======
   "execution_count": 134,
>>>>>>> 6de35cf254492e39f1ba45c20a339a725cfc2a82
   "metadata": {},
   "outputs": [],
   "source": [
    "all_data = pd.read_csv(\"train.csv\")\n",
    "data = all_data['Headline']\n",
    "label = all_data['Label']\n",
    "my_split = word_split(data)"
   ]
  },
  {
   "cell_type": "code",
<<<<<<< HEAD
   "execution_count": 111,
=======
   "execution_count": 135,
>>>>>>> 6de35cf254492e39f1ba45c20a339a725cfc2a82
   "metadata": {},
   "outputs": [],
   "source": [
    "tokenizer = Tokenizer(num_words=MAX_NB_WORDS)\n",
    "tokenizer.fit_on_texts(my_split)\n",
    "sequences = tokenizer.texts_to_sequences(my_split)\n",
    "word_index = tokenizer.word_index\n",
    "x = pad_sequences(sequences, maxlen=MAX_SEQUENCE_LENGTH)"
   ]
  },
  {
   "cell_type": "code",
<<<<<<< HEAD
   "execution_count": 112,
=======
   "execution_count": 136,
>>>>>>> 6de35cf254492e39f1ba45c20a339a725cfc2a82
   "metadata": {},
   "outputs": [],
   "source": [
    "num_words = min(MAX_NB_WORDS, len(word_index))+1\n",
    "embedding_matrix = np.zeros((num_words, EMBEDDING_DIM))\n",
    "for word, i in word_index.items():\n",
    "    if i >= MAX_NB_WORDS:\n",
    "        continue\n",
    "    embedding_vector = embeddings_index.get(word)\n",
    "    if embedding_vector is not None:\n",
    "        # words not found in embedding index will be all-zeros.\n",
    "        embedding_matrix[i] = embedding_vector"
   ]
  },
  {
   "cell_type": "code",
<<<<<<< HEAD
   "execution_count": 113,
=======
   "execution_count": 137,
>>>>>>> 6de35cf254492e39f1ba45c20a339a725cfc2a82
   "metadata": {},
   "outputs": [],
   "source": [
    "embedding_layer = Embedding(num_words,\n",
    "                            EMBEDDING_DIM,\n",
    "                            weights=[embedding_matrix],\n",
    "                            input_length=MAX_SEQUENCE_LENGTH,\n",
    "                            trainable=False)"
   ]
  },
  {
   "cell_type": "code",
<<<<<<< HEAD
   "execution_count": 114,
=======
   "execution_count": 138,
>>>>>>> 6de35cf254492e39f1ba45c20a339a725cfc2a82
   "metadata": {},
   "outputs": [],
   "source": [
    "sequence_input = Input(shape=(MAX_SEQUENCE_LENGTH,), dtype='int32')\n",
    "embedded_sequences = embedding_layer(sequence_input)\n",
    "cnn = Sequential()\n",
    "xx = Conv1D(NUM_LSTM_UNITS, 5, activation='relu')(embedded_sequences)\n",
    "xx = MaxPooling1D(2)(xx)\n",
    "xx = Dropout(0.2)(xx)\n",
    "xx = Conv1D(NUM_LSTM_UNITS, 5, activation='relu')(xx)\n",
    "xx = MaxPooling1D(2)(xx)\n",
    "xx = Dropout(0.2)(xx)\n",
    "l1 = LSTM(NUM_LSTM_UNITS, input_shape=(MAX_SEQUENCE_LENGTH, NUM_LSTM_UNITS), return_sequences=True)\n",
    "l2 = LSTM(NUM_LSTM_UNITS, return_sequences=False)\n",
    "xx = l1(xx)\n",
    "xx = l2(xx)\n",
    "predictions = Dense(units=1, activation='linear')(xx)\n",
    "model = Model(inputs=sequence_input, outputs=predictions)"
   ]
  },
  {
   "cell_type": "code",
<<<<<<< HEAD
   "execution_count": 115,
=======
   "execution_count": 139,
>>>>>>> 6de35cf254492e39f1ba45c20a339a725cfc2a82
   "metadata": {
    "scrolled": false
   },
   "outputs": [
    {
     "name": "stdout",
     "output_type": "stream",
     "text": [
<<<<<<< HEAD
      "Model: \"functional_15\"\n",
      "_________________________________________________________________\n",
      "Layer (type)                 Output Shape              Param #   \n",
      "=================================================================\n",
      "input_9 (InputLayer)         [(None, 30)]              0         \n",
      "_________________________________________________________________\n",
      "embedding_8 (Embedding)      (None, 30, 100)           1000100   \n",
      "_________________________________________________________________\n",
      "conv1d_16 (Conv1D)           (None, 26, 512)           256512    \n",
      "_________________________________________________________________\n",
      "max_pooling1d_16 (MaxPooling (None, 13, 512)           0         \n",
      "_________________________________________________________________\n",
      "dropout_16 (Dropout)         (None, 13, 512)           0         \n",
      "_________________________________________________________________\n",
      "conv1d_17 (Conv1D)           (None, 9, 512)            1311232   \n",
      "_________________________________________________________________\n",
      "max_pooling1d_17 (MaxPooling (None, 4, 512)            0         \n",
      "_________________________________________________________________\n",
      "dropout_17 (Dropout)         (None, 4, 512)            0         \n",
      "_________________________________________________________________\n",
      "lstm_14 (LSTM)               (None, 4, 512)            2099200   \n",
      "_________________________________________________________________\n",
      "lstm_15 (LSTM)               (None, 512)               2099200   \n",
      "_________________________________________________________________\n",
      "dense_7 (Dense)              (None, 1)                 513       \n",
=======
      "Model: \"functional_27\"\n",
      "_________________________________________________________________\n",
      "Layer (type)                 Output Shape              Param #   \n",
      "=================================================================\n",
      "input_14 (InputLayer)        [(None, 50)]              0         \n",
      "_________________________________________________________________\n",
      "embedding_13 (Embedding)     (None, 50, 100)           1000100   \n",
      "_________________________________________________________________\n",
      "conv1d_26 (Conv1D)           (None, 47, 512)           205312    \n",
      "_________________________________________________________________\n",
      "max_pooling1d_26 (MaxPooling (None, 23, 512)           0         \n",
      "_________________________________________________________________\n",
      "dropout_26 (Dropout)         (None, 23, 512)           0         \n",
      "_________________________________________________________________\n",
      "conv1d_27 (Conv1D)           (None, 20, 512)           1049088   \n",
      "_________________________________________________________________\n",
      "max_pooling1d_27 (MaxPooling (None, 10, 512)           0         \n",
      "_________________________________________________________________\n",
      "dropout_27 (Dropout)         (None, 10, 512)           0         \n",
      "_________________________________________________________________\n",
      "lstm_26 (LSTM)               (None, 10, 512)           2099200   \n",
      "_________________________________________________________________\n",
      "lstm_27 (LSTM)               (None, 512)               2099200   \n",
      "_________________________________________________________________\n",
      "dense_13 (Dense)             (None, 1)                 513       \n",
>>>>>>> 6de35cf254492e39f1ba45c20a339a725cfc2a82
      "=================================================================\n",
      "Total params: 6,766,757\n",
      "Trainable params: 5,766,657\n",
      "Non-trainable params: 1,000,100\n",
      "_________________________________________________________________\n"
     ]
    }
   ],
   "source": [
    "model.compile(loss=keras.losses.MeanSquaredError(),\n",
    "              optimizer=keras.optimizers.Adam())\n",
    "model.summary()"
   ]
  },
  {
   "cell_type": "code",
<<<<<<< HEAD
   "execution_count": 116,
=======
   "execution_count": 140,
>>>>>>> 6de35cf254492e39f1ba45c20a339a725cfc2a82
   "metadata": {},
   "outputs": [],
   "source": [
    "x_train, x_test, y_train, y_test = train_test_split(x, label, test_size=0.1)"
   ]
  },
  {
   "cell_type": "code",
<<<<<<< HEAD
   "execution_count": 117,
=======
   "execution_count": null,
>>>>>>> 6de35cf254492e39f1ba45c20a339a725cfc2a82
   "metadata": {
    "scrolled": true
   },
   "outputs": [
    {
     "name": "stdout",
     "output_type": "stream",
     "text": [
<<<<<<< HEAD
      "Epoch 1/5\n",
      "58/58 [==============================] - 10s 167ms/step - loss: 1.3640 - val_loss: 0.5108\n",
      "Epoch 2/5\n",
      "58/58 [==============================] - 9s 158ms/step - loss: 0.5212 - val_loss: 0.4723\n",
      "Epoch 3/5\n",
      "58/58 [==============================] - 9s 158ms/step - loss: 0.5022 - val_loss: 0.4254\n",
      "Epoch 4/5\n",
      "58/58 [==============================] - 9s 158ms/step - loss: 0.4452 - val_loss: 0.4210\n",
      "Epoch 5/5\n",
      "58/58 [==============================] - 9s 159ms/step - loss: 0.4053 - val_loss: 0.4362\n"
=======
      "Epoch 1/6\n",
      "12/58 [=====>........................] - ETA: 7s - loss: 1.8806- ETA: 8s - loss: 2.2"
>>>>>>> 6de35cf254492e39f1ba45c20a339a725cfc2a82
     ]
    }
   ],
   "source": [
<<<<<<< HEAD
    "history = model.fit(x_train, y_train ,batch_size=32 ,epochs=5,validation_data=(x_test, y_test))"
=======
    "history = model.fit(x_train, y_train ,batch_size=32 ,epochs=6,validation_data=(x_test, y_test))"
>>>>>>> 6de35cf254492e39f1ba45c20a339a725cfc2a82
   ]
  },
  {
   "cell_type": "code",
<<<<<<< HEAD
   "execution_count": 118,
=======
   "execution_count": 105,
>>>>>>> 6de35cf254492e39f1ba45c20a339a725cfc2a82
   "metadata": {},
   "outputs": [
    {
     "data": {
      "text/plain": [
<<<<<<< HEAD
       "[<matplotlib.lines.Line2D at 0x15e4774e898>,\n",
       " <matplotlib.lines.Line2D at 0x15e4774e908>]"
      ]
     },
     "execution_count": 118,
=======
       "[<matplotlib.lines.Line2D at 0x2101fef3dd8>,\n",
       " <matplotlib.lines.Line2D at 0x2101fef3e48>]"
      ]
     },
     "execution_count": 105,
>>>>>>> 6de35cf254492e39f1ba45c20a339a725cfc2a82
     "metadata": {},
     "output_type": "execute_result"
    },
    {
     "data": {
<<<<<<< HEAD
      "image/png": "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\n",
=======
      "image/png": "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\n",
>>>>>>> 6de35cf254492e39f1ba45c20a339a725cfc2a82
      "text/plain": [
       "<Figure size 432x288 with 1 Axes>"
      ]
     },
     "metadata": {
      "needs_background": "light"
     },
     "output_type": "display_data"
    }
   ],
   "source": [
    "import matplotlib.pyplot as plt\n",
    "train_loss = history.history['loss']\n",
    "val_loss = history.history['val_loss']\n",
    "plt.plot(train_loss,'r', val_loss, 'b')"
   ]
  },
  {
   "cell_type": "code",
<<<<<<< HEAD
   "execution_count": 119,
=======
   "execution_count": 132,
>>>>>>> 6de35cf254492e39f1ba45c20a339a725cfc2a82
   "metadata": {},
   "outputs": [
    {
     "name": "stdout",
     "output_type": "stream",
     "text": [
<<<<<<< HEAD
      "[2.4124756]\n"
=======
      "[2.7796779]\n"
>>>>>>> 6de35cf254492e39f1ba45c20a339a725cfc2a82
     ]
    }
   ],
   "source": [
    "test_data = pd.read_csv(\"test.csv\")\n",
    "data = test_data['Headline']\n",
    "label = test_data['Label']\n",
    "test_split = word_split(data)\n",
    "sequences = tokenizer.texts_to_sequences(test_split)\n",
    "x = pad_sequences(sequences, maxlen=MAX_SEQUENCE_LENGTH)\n",
    "y_pre = model.predict(x)\n",
    "print(y_pre[0])\n",
    "b = np.arange(1, y_pre.shape[0]+1).reshape(y_pre.shape[0], 1)\n",
    "y_pre = np.append(b, y_pre, axis=1)"
   ]
  },
  {
   "cell_type": "code",
<<<<<<< HEAD
   "execution_count": 120,
=======
   "execution_count": 113,
>>>>>>> 6de35cf254492e39f1ba45c20a339a725cfc2a82
   "metadata": {},
   "outputs": [],
   "source": [
    "import csv\n",
    "with open('output.csv', 'w', newline='') as csvfile:\n",
    "    writer = csv.writer(csvfile)\n",
    "    writer.writerow(['ID','Label'])\n",
    "    writer.writerows(y_pre)"
   ]
  },
  {
   "cell_type": "code",
   "execution_count": 18,
   "metadata": {},
   "outputs": [
    {
     "name": "stdout",
     "output_type": "stream",
     "text": [
      "WARNING:tensorflow:From C:\\Users\\rtes\\anaconda3\\envs\\tf\\lib\\site-packages\\tensorflow\\python\\training\\tracking\\tracking.py:111: Model.state_updates (from tensorflow.python.keras.engine.training) is deprecated and will be removed in a future version.\n",
      "Instructions for updating:\n",
      "This property should not be used in TensorFlow 2.0, as updates are applied automatically.\n",
      "WARNING:tensorflow:From C:\\Users\\rtes\\anaconda3\\envs\\tf\\lib\\site-packages\\tensorflow\\python\\training\\tracking\\tracking.py:111: Layer.updates (from tensorflow.python.keras.engine.base_layer) is deprecated and will be removed in a future version.\n",
      "Instructions for updating:\n",
      "This property should not be used in TensorFlow 2.0, as updates are applied automatically.\n",
      "INFO:tensorflow:Assets written to: ./mymodel_0.445/assets\n"
     ]
    }
   ],
   "source": [
    "#model.save('./mymodel_0.445/')"
   ]
  },
  {
   "cell_type": "code",
   "execution_count": 85,
   "metadata": {},
   "outputs": [],
   "source": [
    "mm = keras.models.load_model('./mymodel_0.445/')"
   ]
  },
  {
   "cell_type": "code",
   "execution_count": 86,
   "metadata": {},
   "outputs": [
    {
     "name": "stdout",
     "output_type": "stream",
     "text": [
      "[2.3372777]\n"
     ]
    }
   ],
   "source": [
    "test_data = pd.read_csv(\"test.csv\")\n",
    "data = test_data['Headline']\n",
    "label = test_data['Label']\n",
    "test_split = word_split(data)\n",
    "sequences = tokenizer.texts_to_sequences(test_split)\n",
    "x = pad_sequences(sequences, maxlen=MAX_SEQUENCE_LENGTH)\n",
    "y_pre = mm.predict(x)\n",
    "print(y_pre[0])\n",
    "b = np.arange(1, y_pre.shape[0]+1).reshape(y_pre.shape[0], 1)\n",
    "y_pre = np.append(b, y_pre, axis=1)"
   ]
  },
  {
   "cell_type": "code",
   "execution_count": 64,
   "metadata": {
    "scrolled": true
   },
   "outputs": [
    {
     "name": "stdout",
     "output_type": "stream",
     "text": [
      "Model: \"functional_1\"\n",
      "_________________________________________________________________\n",
      "Layer (type)                 Output Shape              Param #   \n",
      "=================================================================\n",
      "input_1 (InputLayer)         [(None, 50)]              0         \n",
      "_________________________________________________________________\n",
      "embedding (Embedding)        (None, 50, 100)           1000100   \n",
      "_________________________________________________________________\n",
      "conv1d (Conv1D)              (None, 47, 512)           205312    \n",
      "_________________________________________________________________\n",
      "max_pooling1d (MaxPooling1D) (None, 23, 512)           0         \n",
      "_________________________________________________________________\n",
      "dropout (Dropout)            (None, 23, 512)           0         \n",
      "_________________________________________________________________\n",
      "conv1d_1 (Conv1D)            (None, 20, 512)           1049088   \n",
      "_________________________________________________________________\n",
      "max_pooling1d_1 (MaxPooling1 (None, 10, 512)           0         \n",
      "_________________________________________________________________\n",
      "dropout_1 (Dropout)          (None, 10, 512)           0         \n",
      "_________________________________________________________________\n",
      "lstm (LSTM)                  (None, 10, 512)           2099200   \n",
      "_________________________________________________________________\n",
      "lstm_1 (LSTM)                (None, 512)               2099200   \n",
      "_________________________________________________________________\n",
      "dense (Dense)                (None, 1)                 513       \n",
      "=================================================================\n",
      "Total params: 6,453,413\n",
      "Trainable params: 6,453,413\n",
      "Non-trainable params: 0\n",
      "_________________________________________________________________\n"
     ]
    }
   ],
   "source": [
    "mm.summary()"
   ]
  },
  {
   "cell_type": "code",
   "execution_count": null,
   "metadata": {},
   "outputs": [],
   "source": []
  }
 ],
 "metadata": {
  "kernelspec": {
   "display_name": "tf",
   "language": "python",
   "name": "tf"
  },
  "language_info": {
   "codemirror_mode": {
    "name": "ipython",
    "version": 3
   },
   "file_extension": ".py",
   "mimetype": "text/x-python",
   "name": "python",
   "nbconvert_exporter": "python",
   "pygments_lexer": "ipython3",
   "version": "3.6.12"
  }
 },
 "nbformat": 4,
 "nbformat_minor": 4
}
