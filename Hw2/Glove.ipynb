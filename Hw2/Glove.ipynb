{
 "cells": [
  {
   "cell_type": "code",
   "execution_count": 1,
   "metadata": {},
   "outputs": [],
   "source": [
    "import keras\n",
    "import pandas as pd\n",
    "import os\n",
    "import sys\n",
    "import numpy as np\n",
    "import re\n",
    "from keras.preprocessing.text import Tokenizer\n",
    "from keras.preprocessing.sequence import pad_sequences\n",
    "from keras.utils import to_categorical\n",
    "from keras.layers import Dense, Input, GlobalMaxPooling1D, Dropout\n",
    "from keras.layers import Conv1D, MaxPooling1D, Embedding, LSTM, Conv2D\n",
    "from keras.models import Model, Sequential\n",
    "from sklearn.model_selection import train_test_split"
   ]
  },
  {
   "cell_type": "code",
   "execution_count": 2,
   "metadata": {},
   "outputs": [],
   "source": [
    "def word_split(mystring):\n",
    "    str_split = []\n",
    "    nltk_stopwords= nltk.corpus.stopwords.words('english')\n",
    "    for tmp in mystring:\n",
    "        tmp = tmp.lower()\n",
    "        #punct_token = wordpunct_tokenize(tmp)\n",
    "        tmp = re.sub('[^a-zA-Z0-9\\s\\?\\!]+', '', tmp)\n",
    "        tmp = tmp.replace('!', ' !')\n",
    "        tmp = tmp.replace('?', ' ?')\n",
    "        tmp = tmp.split(' ')\n",
    "        '''\n",
    "        punct_token = [word for word in punct_token if word not in nltk_stopwords]\n",
    "        #remove string.punctuation\n",
    "        punct_token = [word for word in punct_token if word not in string.punctuation]\n",
    "        '''\n",
    "        while True:\n",
    "            if '' not in tmp:\n",
    "                break\n",
    "            tmp.remove('')\n",
    "        while True:\n",
    "            if 'the' not in tmp:\n",
    "                break\n",
    "            tmp.remove('the')\n",
    "        while True:\n",
    "            if 'and' not in tmp:\n",
    "                break\n",
    "            tmp.remove('and')\n",
    "        while True:\n",
    "            if 'of' not in tmp:\n",
    "                break\n",
    "            tmp.remove('of')\n",
    "        '''\n",
    "        while True:\n",
    "            if 'is' not in tmp:\n",
    "                break\n",
    "            tmp.remove('is')\n",
    "        while True:\n",
    "            if 'are' not in tmp:\n",
    "                break\n",
    "            tmp.remove('are')\n",
    "        '''\n",
    "        str_split.append(tmp)\n",
    "    return str_split"
   ]
  },
  {
   "cell_type": "code",
   "execution_count": 3,
   "metadata": {},
   "outputs": [
    {
     "name": "stderr",
     "output_type": "stream",
     "text": [
      "[nltk_data] Downloading package stopwords to\n",
      "[nltk_data]     C:\\Users\\User\\AppData\\Roaming\\nltk_data...\n",
      "[nltk_data]   Package stopwords is already up-to-date!\n"
     ]
    }
   ],
   "source": [
    "import nltk\n",
    "nltk.download('stopwords')\n",
    "import string\n",
    "from nltk import wordpunct_tokenize"
   ]
  },
  {
   "cell_type": "code",
   "execution_count": 4,
   "metadata": {},
   "outputs": [],
   "source": [
    "GLOVE_DIR = './'\n",
    "MAX_SEQUENCE_LENGTH = 30\n",
    "MAX_NB_WORDS = 10000\n",
    "EMBEDDING_DIM = 100\n",
    "NUM_LSTM_UNITS = 512\n",
    "VALIDATION_SPLIT = 0.2"
   ]
  },
  {
   "cell_type": "code",
   "execution_count": 7,
   "metadata": {},
   "outputs": [],
   "source": [
    "embeddings_index = {}\n",
    "f = open(os.path.join(GLOVE_DIR, 'glove.6B.100d.txt'), encoding='utf8')\n",
    "for line in f:\n",
    "    values = line.split()\n",
    "    word = values[0]\n",
    "    coefs = np.asarray(values[1:], dtype='float32')\n",
    "    embeddings_index[word] = coefs\n",
    "f.close()"
   ]
  },
  {
   "cell_type": "code",
   "execution_count": 9,
   "metadata": {},
   "outputs": [],
   "source": [
    "all_data = pd.read_csv(\"train.csv\")\n",
    "data = all_data['Headline']\n",
    "label = all_data['Label']\n",
    "my_split = word_split(data)"
   ]
  },
  {
   "cell_type": "code",
   "execution_count": 10,
   "metadata": {},
   "outputs": [],
   "source": [
    "tokenizer = Tokenizer(num_words=MAX_NB_WORDS)\n",
    "tokenizer.fit_on_texts(my_split)\n",
    "sequences = tokenizer.texts_to_sequences(my_split)\n",
    "word_index = tokenizer.word_index\n",
    "x = pad_sequences(sequences, maxlen=MAX_SEQUENCE_LENGTH)"
   ]
  },
  {
   "cell_type": "code",
   "execution_count": 11,
   "metadata": {},
   "outputs": [],
   "source": [
    "num_words = min(MAX_NB_WORDS, len(word_index))+1\n",
    "embedding_matrix = np.zeros((num_words, EMBEDDING_DIM))\n",
    "for word, i in word_index.items():\n",
    "    if i >= MAX_NB_WORDS:\n",
    "        continue\n",
    "    embedding_vector = embeddings_index.get(word)\n",
    "    if embedding_vector is not None:\n",
    "        # words not found in embedding index will be all-zeros.\n",
    "        embedding_matrix[i] = embedding_vector"
   ]
  },
  {
   "cell_type": "code",
   "execution_count": 35,
   "metadata": {},
   "outputs": [],
   "source": [
    "embedding_layer = Embedding(num_words,\n",
    "                            EMBEDDING_DIM,\n",
    "                            weights=[embedding_matrix],\n",
    "                            input_length=MAX_SEQUENCE_LENGTH,\n",
    "                            trainable=False)"
   ]
  },
  {
   "cell_type": "code",
   "execution_count": 36,
   "metadata": {},
   "outputs": [],
   "source": [
    "sequence_input = Input(shape=(MAX_SEQUENCE_LENGTH,), dtype='int32')\n",
    "embedded_sequences = embedding_layer(sequence_input)\n",
    "cnn = Sequential()\n",
    "xx = Conv1D(NUM_LSTM_UNITS, 5, activation='relu')(embedded_sequences)\n",
    "xx = MaxPooling1D(2)(xx)\n",
    "xx = Dropout(0.2)(xx)\n",
    "xx = Conv1D(NUM_LSTM_UNITS, 5, activation='relu')(xx)\n",
    "xx = MaxPooling1D(2)(xx)\n",
    "xx = Dropout(0.2)(xx)\n",
    "l1 = LSTM(NUM_LSTM_UNITS, input_shape=(MAX_SEQUENCE_LENGTH, NUM_LSTM_UNITS), return_sequences=True)\n",
    "l2 = LSTM(NUM_LSTM_UNITS, return_sequences=False)\n",
    "xx = l1(xx)\n",
    "xx = l2(xx)\n",
    "predictions = Dense(units=1, activation='linear')(xx)\n",
    "model = Model(inputs=sequence_input, outputs=predictions)"
   ]
  },
  {
   "cell_type": "code",
   "execution_count": 37,
   "metadata": {},
   "outputs": [
    {
     "name": "stdout",
     "output_type": "stream",
     "text": [
      "Model: \"functional_3\"\n",
      "_________________________________________________________________\n",
      "Layer (type)                 Output Shape              Param #   \n",
      "=================================================================\n",
      "input_2 (InputLayer)         [(None, 30)]              0         \n",
      "_________________________________________________________________\n",
      "embedding_1 (Embedding)      (None, 30, 100)           1000100   \n",
      "_________________________________________________________________\n",
      "conv1d_2 (Conv1D)            (None, 26, 512)           256512    \n",
      "_________________________________________________________________\n",
      "max_pooling1d_2 (MaxPooling1 (None, 13, 512)           0         \n",
      "_________________________________________________________________\n",
      "dropout_2 (Dropout)          (None, 13, 512)           0         \n",
      "_________________________________________________________________\n",
      "conv1d_3 (Conv1D)            (None, 9, 512)            1311232   \n",
      "_________________________________________________________________\n",
      "max_pooling1d_3 (MaxPooling1 (None, 4, 512)            0         \n",
      "_________________________________________________________________\n",
      "dropout_3 (Dropout)          (None, 4, 512)            0         \n",
      "_________________________________________________________________\n",
      "lstm_2 (LSTM)                (None, 4, 512)            2099200   \n",
      "_________________________________________________________________\n",
      "lstm_3 (LSTM)                (None, 512)               2099200   \n",
      "_________________________________________________________________\n",
      "dense_1 (Dense)              (None, 1)                 513       \n",
      "=================================================================\n",
      "Total params: 6,766,757\n",
      "Trainable params: 5,766,657\n",
      "Non-trainable params: 1,000,100\n",
      "_________________________________________________________________\n"
     ]
    }
   ],
   "source": [
    "model.compile(loss=keras.losses.MeanSquaredError(),\n",
    "              optimizer=keras.optimizers.SGD())\n",
    "model.summary()"
   ]
  },
  {
   "cell_type": "code",
   "execution_count": 38,
   "metadata": {},
   "outputs": [],
   "source": [
    "x_train, x_test, y_train, y_test = train_test_split(x, label, test_size=0.1)"
   ]
  },
  {
   "cell_type": "code",
   "execution_count": 39,
   "metadata": {
    "scrolled": true
   },
   "outputs": [
    {
     "name": "stdout",
     "output_type": "stream",
     "text": [
      "Epoch 1/40\n",
      "58/58 [==============================] - 7s 124ms/step - loss: 1.3190 - val_loss: 0.5195\n",
      "Epoch 2/40\n",
      "58/58 [==============================] - 7s 118ms/step - loss: 0.6492 - val_loss: 0.4624\n",
      "Epoch 3/40\n",
      "58/58 [==============================] - 7s 121ms/step - loss: 0.5844 - val_loss: 0.4439\n",
      "Epoch 4/40\n",
      "58/58 [==============================] - 7s 117ms/step - loss: 0.5499 - val_loss: 0.4456\n",
      "Epoch 5/40\n",
      "58/58 [==============================] - 7s 117ms/step - loss: 0.5282 - val_loss: 0.4623\n",
      "Epoch 6/40\n",
      "58/58 [==============================] - 7s 116ms/step - loss: 0.5152 - val_loss: 0.4257\n",
      "Epoch 7/40\n",
      "58/58 [==============================] - 7s 115ms/step - loss: 0.5013 - val_loss: 0.4348\n",
      "Epoch 8/40\n",
      "58/58 [==============================] - 7s 115ms/step - loss: 0.4902 - val_loss: 0.4491\n",
      "Epoch 9/40\n",
      "58/58 [==============================] - 7s 116ms/step - loss: 0.4757 - val_loss: 0.4406\n",
      "Epoch 10/40\n",
      "58/58 [==============================] - 7s 119ms/step - loss: 0.4723 - val_loss: 0.4361\n",
      "Epoch 11/40\n",
      "58/58 [==============================] - 7s 117ms/step - loss: 0.4644 - val_loss: 0.4052\n",
      "Epoch 12/40\n",
      "58/58 [==============================] - 7s 117ms/step - loss: 0.4564 - val_loss: 0.5033\n",
      "Epoch 13/40\n",
      "58/58 [==============================] - 7s 119ms/step - loss: 0.4502 - val_loss: 0.3872\n",
      "Epoch 14/40\n",
      "58/58 [==============================] - 7s 119ms/step - loss: 0.4440 - val_loss: 0.4398\n",
      "Epoch 15/40\n",
      "58/58 [==============================] - 7s 117ms/step - loss: 0.4431 - val_loss: 0.3977\n",
      "Epoch 16/40\n",
      "58/58 [==============================] - 7s 117ms/step - loss: 0.4376 - val_loss: 0.3841\n",
      "Epoch 17/40\n",
      "58/58 [==============================] - 7s 117ms/step - loss: 0.4282 - val_loss: 0.3812\n",
      "Epoch 18/40\n",
      "58/58 [==============================] - 7s 119ms/step - loss: 0.4308 - val_loss: 0.3783\n",
      "Epoch 19/40\n",
      "58/58 [==============================] - 7s 118ms/step - loss: 0.4278 - val_loss: 0.3843\n",
      "Epoch 20/40\n",
      "58/58 [==============================] - 7s 118ms/step - loss: 0.4250 - val_loss: 0.4338\n",
      "Epoch 21/40\n",
      "58/58 [==============================] - 7s 119ms/step - loss: 0.4205 - val_loss: 0.4640\n",
      "Epoch 22/40\n",
      "58/58 [==============================] - 7s 122ms/step - loss: 0.4123 - val_loss: 0.3835\n",
      "Epoch 23/40\n",
      "58/58 [==============================] - 7s 119ms/step - loss: 0.4136 - val_loss: 0.3789\n",
      "Epoch 24/40\n",
      "58/58 [==============================] - 7s 118ms/step - loss: 0.4136 - val_loss: 0.3743\n",
      "Epoch 25/40\n",
      "58/58 [==============================] - 7s 117ms/step - loss: 0.4177 - val_loss: 0.3798\n",
      "Epoch 26/40\n",
      "58/58 [==============================] - 7s 118ms/step - loss: 0.3981 - val_loss: 0.3824\n",
      "Epoch 27/40\n",
      "58/58 [==============================] - 7s 118ms/step - loss: 0.4000 - val_loss: 0.3745\n",
      "Epoch 28/40\n",
      "58/58 [==============================] - 7s 117ms/step - loss: 0.3944 - val_loss: 0.3807\n",
      "Epoch 29/40\n",
      "58/58 [==============================] - 7s 117ms/step - loss: 0.3943 - val_loss: 0.3980\n",
      "Epoch 30/40\n",
      "58/58 [==============================] - 7s 117ms/step - loss: 0.3920 - val_loss: 0.4495\n",
      "Epoch 31/40\n",
      "58/58 [==============================] - 7s 118ms/step - loss: 0.3867 - val_loss: 0.4819\n",
      "Epoch 32/40\n",
      "58/58 [==============================] - 7s 119ms/step - loss: 0.3837 - val_loss: 0.4592\n",
      "Epoch 33/40\n",
      "58/58 [==============================] - 7s 119ms/step - loss: 0.3855 - val_loss: 0.3901\n",
      "Epoch 34/40\n",
      "58/58 [==============================] - 7s 117ms/step - loss: 0.3745 - val_loss: 0.3985\n",
      "Epoch 35/40\n",
      "58/58 [==============================] - 7s 118ms/step - loss: 0.3597 - val_loss: 0.3769\n",
      "Epoch 36/40\n",
      "58/58 [==============================] - 7s 117ms/step - loss: 0.3596 - val_loss: 0.3795\n",
      "Epoch 37/40\n",
      "58/58 [==============================] - 7s 119ms/step - loss: 0.3545 - val_loss: 0.4322\n",
      "Epoch 38/40\n",
      "58/58 [==============================] - 7s 117ms/step - loss: 0.3503 - val_loss: 0.4787\n",
      "Epoch 39/40\n",
      "58/58 [==============================] - 7s 118ms/step - loss: 0.3494 - val_loss: 0.4259\n",
      "Epoch 40/40\n",
      "58/58 [==============================] - 7s 117ms/step - loss: 0.3436 - val_loss: 0.5046\n"
     ]
    }
   ],
   "source": [
    "history = model.fit(x_train, y_train ,batch_size=32 ,epochs=40,validation_data=(x_test, y_test))"
   ]
  },
  {
   "cell_type": "code",
   "execution_count": 45,
   "metadata": {},
   "outputs": [
    {
     "data": {
      "text/plain": [
       "[<matplotlib.lines.Line2D at 0x1bd28952940>,\n",
       " <matplotlib.lines.Line2D at 0x1bd289529b0>]"
      ]
     },
     "execution_count": 45,
     "metadata": {},
     "output_type": "execute_result"
    },
    {
     "data": {
      "image/png": "[encoded data removed]",
      "text/plain": [
       "<Figure size 432x288 with 1 Axes>"
      ]
     },
     "metadata": {
      "needs_background": "light"
     },
     "output_type": "display_data"
    }
   ],
   "source": [
    "import matplotlib.pyplot as plt\n",
    "train_loss = history.history['loss']\n",
    "val_loss = history.history['val_loss']\n",
    "plt.plot(train_loss,'r', val_loss, 'b')"
   ]
  },
  {
   "cell_type": "code",
   "execution_count": 52,
   "metadata": {},
   "outputs": [
    {
     "name": "stdout",
     "output_type": "stream",
     "text": [
      "[2.117241]\n"
     ]
    }
   ],
   "source": [
    "test_data = pd.read_csv(\"test.csv\")\n",
    "data = test_data['Headline']\n",
    "label = test_data['Label']\n",
    "test_split = word_split(data)\n",
    "sequences = tokenizer.texts_to_sequences(test_split)\n",
    "x = pad_sequences(sequences, maxlen=MAX_SEQUENCE_LENGTH)\n",
    "y_pre = model.predict(x)\n",
    "print(y_pre[0])\n",
    "b = np.arange(1, y_pre.shape[0]+1).reshape(y_pre.shape[0], 1)\n",
    "y_pre = np.append(b, y_pre, axis=1)"
   ]
  },
  {
   "cell_type": "code",
   "execution_count": 47,
   "metadata": {},
   "outputs": [],
   "source": [
    "import csv\n",
    "with open('output.csv', 'w', newline='') as csvfile:\n",
    "    writer = csv.writer(csvfile)\n",
    "    writer.writerow(['ID','Label'])\n",
    "    writer.writerows(y_pre)"
   ]
  },
  {
   "cell_type": "code",
   "execution_count": 51,
   "metadata": {},
   "outputs": [
    {
     "name": "stdout",
     "output_type": "stream",
     "text": [
      "INFO:tensorflow:Assets written to: ./mymodel_0.456/assets\n"
     ]
    }
   ],
   "source": [
    "model.save('./mymodel_0.456/')"
   ]
  },
  {
   "cell_type": "code",
   "execution_count": 5,
   "metadata": {},
   "outputs": [],
   "source": [
    "mm = keras.models.load_model('./mymodel_0.456/')"
   ]
  },
  {
   "cell_type": "code",
   "execution_count": 12,
   "metadata": {},
   "outputs": [
    {
     "name": "stdout",
     "output_type": "stream",
     "text": [
      "[2.117241]\n"
     ]
    }
   ],
   "source": [
    "test_data = pd.read_csv(\"test.csv\")\n",
    "data = test_data['Headline']\n",
    "label = test_data['Label']\n",
    "test_split = word_split(data)\n",
    "sequences = tokenizer.texts_to_sequences(test_split)\n",
    "x = pad_sequences(sequences, maxlen=MAX_SEQUENCE_LENGTH)\n",
    "y_pre = mm.predict(x)\n",
    "print(y_pre[0])\n",
    "b = np.arange(1, y_pre.shape[0]+1).reshape(y_pre.shape[0], 1)\n",
    "y_pre = np.append(b, y_pre, axis=1)"
   ]
  },
  {
   "cell_type": "code",
   "execution_count": 13,
   "metadata": {},
   "outputs": [
    {
     "name": "stdout",
     "output_type": "stream",
     "text": [
      "Model: \"functional_3\"\n",
      "_________________________________________________________________\n",
      "Layer (type)                 Output Shape              Param #   \n",
      "=================================================================\n",
      "input_2 (InputLayer)         [(None, 30)]              0         \n",
      "_________________________________________________________________\n",
      "embedding_1 (Embedding)      (None, 30, 100)           1000100   \n",
      "_________________________________________________________________\n",
      "conv1d_2 (Conv1D)            (None, 26, 512)           256512    \n",
      "_________________________________________________________________\n",
      "max_pooling1d_2 (MaxPooling1 (None, 13, 512)           0         \n",
      "_________________________________________________________________\n",
      "dropout_2 (Dropout)          (None, 13, 512)           0         \n",
      "_________________________________________________________________\n",
      "conv1d_3 (Conv1D)            (None, 9, 512)            1311232   \n",
      "_________________________________________________________________\n",
      "max_pooling1d_3 (MaxPooling1 (None, 4, 512)            0         \n",
      "_________________________________________________________________\n",
      "dropout_3 (Dropout)          (None, 4, 512)            0         \n",
      "_________________________________________________________________\n",
      "lstm_2 (LSTM)                (None, 4, 512)            2099200   \n",
      "_________________________________________________________________\n",
      "lstm_3 (LSTM)                (None, 512)               2099200   \n",
      "_________________________________________________________________\n",
      "dense_1 (Dense)              (None, 1)                 513       \n",
      "=================================================================\n",
      "Total params: 6,766,757\n",
      "Trainable params: 6,766,757\n",
      "Non-trainable params: 0\n",
      "_________________________________________________________________\n"
     ]
    }
   ],
   "source": [
    "mm.summary()"
   ]
  },
  {
   "cell_type": "code",
   "execution_count": null,
   "metadata": {},
   "outputs": [],
   "source": []
  }
 ],
 "metadata": {
  "kernelspec": {
   "display_name": "tf",
   "language": "python",
   "name": "tf"
  },
  "language_info": {
   "codemirror_mode": {
    "name": "ipython",
    "version": 3
   },
   "file_extension": ".py",
   "mimetype": "text/x-python",
   "name": "python",
   "nbconvert_exporter": "python",
   "pygments_lexer": "ipython3",
   "version": "3.6.12"
  }
 },
 "nbformat": 4,
 "nbformat_minor": 4
}
