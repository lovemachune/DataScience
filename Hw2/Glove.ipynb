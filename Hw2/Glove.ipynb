{
 "cells": [
  {
   "cell_type": "code",
   "execution_count": 88,
   "metadata": {},
   "outputs": [],
   "source": [
    "import tensorflow as tf\n",
    "import pandas as pd\n",
    "import os\n",
    "import sys\n",
    "import numpy as np\n",
    "import re\n",
    "from keras.preprocessing.text import Tokenizer\n",
    "from keras.preprocessing.sequence import pad_sequences\n",
    "from keras.utils import to_categorical\n",
    "from keras.layers import Dense, Input, GlobalMaxPooling1D, Dropout\n",
    "from keras.layers import Conv1D, MaxPooling1D, Embedding, LSTM\n",
    "from keras.models import Model\n",
    "from sklearn.model_selection import train_test_split"
   ]
  },
  {
   "cell_type": "code",
   "execution_count": 89,
   "metadata": {},
   "outputs": [],
   "source": [
    "def word_split(mystring):\n",
    "    str_split = []\n",
    "    for tmp in mystring:\n",
    "        tmp = re.sub('[^a-zA-Z0-9\\s]+', '', tmp)\n",
    "        tmp = tmp.replace('the', '')\n",
    "        tmp = tmp.split(' ')\n",
    "        while True:\n",
    "            if '' not in tmp:\n",
    "                break\n",
    "            tmp.remove('')    \n",
    "        str_split.append(tmp)\n",
    "    return str_split"
   ]
  },
  {
   "cell_type": "code",
   "execution_count": 90,
   "metadata": {},
   "outputs": [],
   "source": [
    "GLOVE_DIR = './'\n",
    "MAX_SEQUENCE_LENGTH = 100\n",
    "MAX_NB_WORDS = 100\n",
    "EMBEDDING_DIM = 100\n",
    "VALIDATION_SPLIT = 0.2"
   ]
  },
  {
   "cell_type": "code",
   "execution_count": 91,
   "metadata": {},
   "outputs": [],
   "source": [
    "embeddings_index = {}\n",
    "f = open(os.path.join(GLOVE_DIR, 'glove.6B.100d.txt'), encoding='utf8')\n",
    "for line in f:\n",
    "    values = line.split()\n",
    "    word = values[0]\n",
    "    coefs = np.asarray(values[1:], dtype='float32')\n",
    "    embeddings_index[word] = coefs\n",
    "f.close()"
   ]
  },
  {
   "cell_type": "code",
   "execution_count": 92,
   "metadata": {},
   "outputs": [],
   "source": [
    "all_data = pd.read_csv(\"train.csv\")\n",
    "data = all_data['Headline']\n",
    "label = all_data['Label']\n",
    "my_split = word_split(data)"
   ]
  },
  {
   "cell_type": "code",
   "execution_count": 93,
   "metadata": {},
   "outputs": [],
   "source": [
    "tokenizer = Tokenizer(num_words=MAX_NB_WORDS)\n",
    "tokenizer.fit_on_texts(my_split)\n",
    "sequences = tokenizer.texts_to_sequences(my_split)\n",
    "word_index = tokenizer.word_index\n",
    "x = pad_sequences(sequences, maxlen=MAX_SEQUENCE_LENGTH)"
   ]
  },
  {
   "cell_type": "code",
   "execution_count": 94,
   "metadata": {},
   "outputs": [],
   "source": [
    "num_words = min(MAX_NB_WORDS, len(word_index))\n",
    "embedding_matrix = np.zeros((num_words, EMBEDDING_DIM))\n",
    "for word, i in word_index.items():\n",
    "    if i >= MAX_NB_WORDS:\n",
    "        continue\n",
    "    embedding_vector = embeddings_index.get(word)\n",
    "    if embedding_vector is not None:\n",
    "        # words not found in embedding index will be all-zeros.\n",
    "        embedding_matrix[i-1] = embedding_vector"
   ]
  },
  {
   "cell_type": "code",
   "execution_count": 102,
   "metadata": {},
   "outputs": [],
   "source": [
    "embedding_layer = Embedding(num_words,\n",
    "                            EMBEDDING_DIM,\n",
    "                            weights=[embedding_matrix],\n",
    "                            input_length=MAX_SEQUENCE_LENGTH,\n",
    "                            trainable=True)"
   ]
  },
  {
   "cell_type": "code",
   "execution_count": 106,
   "metadata": {},
   "outputs": [],
   "source": [
    "sequence_input = Input(shape=(MAX_SEQUENCE_LENGTH,), dtype='int32')\n",
    "embedded_sequences = embedding_layer(sequence_input)\n",
    "NUM_LSTM_UNITS = 32\n",
    "shared_lstm = LSTM(NUM_LSTM_UNITS)\n",
    "xx = shared_lstm(embedded_sequences)\n",
    "'''\n",
    "x = Dense(units=32, activation='relu')(x)\n",
    "x = Dropout(0.2)(x)\n",
    "x = Dense(units=8, activation='relu')(x)\n",
    "x = Dropout(0.2)(x)\n",
    "'''\n",
    "predictions = Dense(units=1, activation='linear')(xx)\n",
    "model = Model(inputs=sequence_input, outputs=predictions)"
   ]
  },
  {
   "cell_type": "code",
   "execution_count": 107,
   "metadata": {},
   "outputs": [
    {
     "name": "stdout",
     "output_type": "stream",
     "text": [
      "Model: \"functional_19\"\n",
      "_________________________________________________________________\n",
      "Layer (type)                 Output Shape              Param #   \n",
      "=================================================================\n",
      "input_10 (InputLayer)        [(None, 100)]             0         \n",
      "_________________________________________________________________\n",
      "embedding_7 (Embedding)      (None, 100, 100)          10000     \n",
      "_________________________________________________________________\n",
      "lstm_9 (LSTM)                (None, 32)                17024     \n",
      "_________________________________________________________________\n",
      "dense_9 (Dense)              (None, 1)                 33        \n",
      "=================================================================\n",
      "Total params: 27,057\n",
      "Trainable params: 27,057\n",
      "Non-trainable params: 0\n",
      "_________________________________________________________________\n"
     ]
    }
   ],
   "source": [
    "model.compile(loss=tf.keras.losses.MeanSquaredError(),\n",
    "              optimizer='Adam',)\n",
    "model.summary()"
   ]
  },
  {
   "cell_type": "code",
   "execution_count": 108,
   "metadata": {
    "scrolled": true
   },
   "outputs": [
    {
     "name": "stdout",
     "output_type": "stream",
     "text": [
      "Epoch 1/20\n",
      "58/58 [==============================] - 1s 25ms/step - loss: 2.0008 - val_loss: 0.5550\n",
      "Epoch 2/20\n",
      "58/58 [==============================] - 1s 21ms/step - loss: 0.5201 - val_loss: 0.5451\n",
      "Epoch 3/20\n",
      "58/58 [==============================] - 1s 20ms/step - loss: 0.5084 - val_loss: 0.5818\n",
      "Epoch 4/20\n",
      "58/58 [==============================] - 1s 21ms/step - loss: 0.5005 - val_loss: 0.5344\n",
      "Epoch 5/20\n",
      "58/58 [==============================] - 1s 21ms/step - loss: 0.4937 - val_loss: 0.5315\n",
      "Epoch 6/20\n",
      "58/58 [==============================] - 1s 20ms/step - loss: 0.4786 - val_loss: 0.5304\n",
      "Epoch 7/20\n",
      "58/58 [==============================] - 1s 21ms/step - loss: 0.4735 - val_loss: 0.5490\n",
      "Epoch 8/20\n",
      "58/58 [==============================] - 1s 21ms/step - loss: 0.4631 - val_loss: 0.5192\n",
      "Epoch 9/20\n",
      "58/58 [==============================] - 1s 21ms/step - loss: 0.4547 - val_loss: 0.5228\n",
      "Epoch 10/20\n",
      "58/58 [==============================] - 1s 21ms/step - loss: 0.4548 - val_loss: 0.5166\n",
      "Epoch 11/20\n",
      "58/58 [==============================] - 1s 21ms/step - loss: 0.4470 - val_loss: 0.5313\n",
      "Epoch 12/20\n",
      "58/58 [==============================] - 1s 21ms/step - loss: 0.4388 - val_loss: 0.5407\n",
      "Epoch 13/20\n",
      "58/58 [==============================] - 1s 21ms/step - loss: 0.4371 - val_loss: 0.5093\n",
      "Epoch 14/20\n",
      "58/58 [==============================] - 1s 20ms/step - loss: 0.4304 - val_loss: 0.5044\n",
      "Epoch 15/20\n",
      "58/58 [==============================] - 1s 20ms/step - loss: 0.4235 - val_loss: 0.5117\n",
      "Epoch 16/20\n",
      "58/58 [==============================] - 1s 21ms/step - loss: 0.4241 - val_loss: 0.5072\n",
      "Epoch 17/20\n",
      "58/58 [==============================] - 1s 20ms/step - loss: 0.4177 - val_loss: 0.5050\n",
      "Epoch 18/20\n",
      "58/58 [==============================] - 1s 21ms/step - loss: 0.4160 - val_loss: 0.5158\n",
      "Epoch 19/20\n",
      "58/58 [==============================] - 1s 20ms/step - loss: 0.4153 - val_loss: 0.5014\n",
      "Epoch 20/20\n",
      "58/58 [==============================] - 1s 20ms/step - loss: 0.4210 - val_loss: 0.5070\n"
     ]
    }
   ],
   "source": [
    "x_train, x_test, y_train, y_test = train_test_split(x, label, test_size=0.1)\n",
    "history = model.fit(x_train, y_train ,batch_size=32,epochs=20,validation_data=(x_test, y_test))"
   ]
  },
  {
   "cell_type": "code",
   "execution_count": 109,
   "metadata": {},
   "outputs": [
    {
     "data": {
      "text/plain": [
       "[<matplotlib.lines.Line2D at 0x23ca5e19710>,\n",
       " <matplotlib.lines.Line2D at 0x23ca5e197b8>]"
      ]
     },
     "execution_count": 109,
     "metadata": {},
     "output_type": "execute_result"
    },
    {
     "data": {
      "image/png": "[encoded data removed]",
      "text/plain": [
       "<Figure size 432x288 with 1 Axes>"
      ]
     },
     "metadata": {
      "needs_background": "light"
     },
     "output_type": "display_data"
    }
   ],
   "source": [
    "import matplotlib.pyplot as plt\n",
    "train_loss = history.history['loss']\n",
    "val_loss = history.history['val_loss']\n",
    "plt.plot(train_loss,'r', val_loss, 'b')"
   ]
  },
  {
   "cell_type": "code",
   "execution_count": 85,
   "metadata": {},
   "outputs": [],
   "source": [
    "test_data = pd.read_csv(\"test.csv\")\n",
    "data = test_data['Headline']\n",
    "label = test_data['Label']\n",
    "test_split = word_split(data)\n",
    "sequences = tokenizer.texts_to_sequences(test_split)\n",
    "x = pad_sequences(sequences, maxlen=MAX_SEQUENCE_LENGTH)\n",
    "y_pre = model.predict(x)\n",
    "b = np.arange(1, y_pre.shape[0]+1).reshape(y_pre.shape[0], 1)\n",
    "y_pre = np.append(b, y_pre, axis=1)"
   ]
  },
  {
   "cell_type": "code",
   "execution_count": 86,
   "metadata": {},
   "outputs": [],
   "source": [
    "import csv\n",
    "with open('output.csv', 'w', newline='') as csvfile:\n",
    "    writer = csv.writer(csvfile)\n",
    "    writer.writerow(['ID','Label'])\n",
    "    writer.writerows(y_pre)"
   ]
  },
  {
   "cell_type": "code",
   "execution_count": null,
   "metadata": {},
   "outputs": [],
   "source": []
  }
 ],
 "metadata": {
  "kernelspec": {
   "display_name": "tf",
   "language": "python",
   "name": "tf"
  },
  "language_info": {
   "codemirror_mode": {
    "name": "ipython",
    "version": 3
   },
   "file_extension": ".py",
   "mimetype": "text/x-python",
   "name": "python",
   "nbconvert_exporter": "python",
   "pygments_lexer": "ipython3",
   "version": "3.6.12"
  }
 },
 "nbformat": 4,
 "nbformat_minor": 4
}
